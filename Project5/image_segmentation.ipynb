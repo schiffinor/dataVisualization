{
 "cells": [
  {
   "cell_type": "markdown",
   "metadata": {},
   "source": [
    "**YOUR NAME HERE**\n",
    "\n",
    "CS 251/2: Data Analysis and Visualization\n",
    "\n",
    "Spring 2024\n",
    "\n",
    "Project 5: Clustering"
   ]
  },
  {
   "cell_type": "code",
   "execution_count": null,
   "metadata": {},
   "source": [
    "import numpy as np\n",
    "import matplotlib.pyplot as plt\n",
    "\n",
    "import kmeans\n",
    "\n",
    "plt.style.use(['seaborn-v0_8-colorblind', 'seaborn-v0_8-darkgrid'])\n",
    "plt.rcParams.update({'font.size': 20})\n",
    "\n",
    "np.set_printoptions(suppress=True, precision=5)\n",
    "\n",
    "\n",
    "# Automatically reload external modules\n",
    "%load_ext autoreload\n",
    "%autoreload 2"
   ],
   "outputs": []
  },
  {
   "cell_type": "markdown",
   "metadata": {},
   "source": [
    "## Task 2: Image Segmentation and compression\n",
    "\n",
    "In this task, you will apply K-means to one image and to compress it (*image compression*). The idea is that you will find $k$ RGB color centroids in the image, then replace each pixel in the image with the nearest centroid. This will compress an image, by only using $k$ colors to represent it. You can also think of this as doing a simple image region segmentation: regions with similar colors will belong to the same cluster. It also makes some cool retro effects!"
   ]
  },
  {
   "cell_type": "markdown",
   "metadata": {},
   "source": [
    "### 2a. Load in baby bird image\n",
    "\n",
    "- Use the imported `imread` method below to load in the `baby_bird.jpg` image.\n",
    "- Use `plt.imshow` to display it in the notebook below. Turn off plot ticks!"
   ]
  },
  {
   "cell_type": "code",
   "execution_count": null,
   "metadata": {},
   "source": [
    "from matplotlib.image import imread"
   ],
   "outputs": []
  },
  {
   "cell_type": "code",
   "execution_count": null,
   "metadata": {},
   "source": [],
   "outputs": []
  },
  {
   "cell_type": "markdown",
   "metadata": {},
   "source": [
    "### 2b. Preprocess image\n",
    "\n",
    "- Fill in the function below to collapse (flatten) the 2D image into a big 1D vector of RGB values. For example, for the bird image, your function should take the shape `(num_rows, num_cols, rgb)` and convert it to `(num_rows*num_cols, rgb)`.\n",
    "- Reshape the bird image from `(num_rows, num_cols, rgb)` and convert it to `(num_rows*num_cols, rgb)`. Final shape for baby bird image should be: `(61206, 3)`"
   ]
  },
  {
   "cell_type": "code",
   "execution_count": null,
   "metadata": {},
   "source": [
    "def flatten(img):\n",
    "    '''Flattens `img` to N 1D vectors.\n",
    "    For example, for an RGB image, `(num_rows, num_cols, rgb)` -> `(num_rows*num_cols, rgb)`.\n",
    "    \n",
    "    Parameters:\n",
    "    -----------\n",
    "    img: ndarray. shape=(num_rows, num_cols, rgb)\n",
    "    \n",
    "    Returns:\n",
    "    -----------\n",
    "    Flattened `img`. ndarray. shape=(num_rows*num_cols, rgb)\n",
    "    '''\n",
    "    pass"
   ],
   "outputs": []
  },
  {
   "cell_type": "code",
   "execution_count": null,
   "metadata": {},
   "source": [],
   "outputs": []
  },
  {
   "cell_type": "markdown",
   "metadata": {},
   "source": [
    "### 2c. Cluster RGB values in image\n",
    "\n",
    "- Run K-means on the bird data vector.\n",
    "- Implement `replace_color_with_centroid`: replace every pixel in the image with the nearest centroid RGB value.\n",
    "- Compress the image by running `replace_color_with_centroid`."
   ]
  },
  {
   "cell_type": "code",
   "execution_count": null,
   "metadata": {},
   "source": [],
   "outputs": []
  },
  {
   "cell_type": "markdown",
   "metadata": {},
   "source": [
    "### 2d. Postprocessing and visualization\n",
    "\n",
    "- Rehape the compressed image data back to its original dimensions and cast the ndarray so that it stores ints.\n",
    "- Plot it below."
   ]
  },
  {
   "cell_type": "code",
   "execution_count": null,
   "metadata": {},
   "source": [],
   "outputs": []
  },
  {
   "cell_type": "markdown",
   "metadata": {},
   "source": [
    "### 2e. Run K-means and compress an image of your choice\n",
    "\n",
    "Smaller images run a lot faster."
   ]
  },
  {
   "cell_type": "code",
   "execution_count": null,
   "metadata": {},
   "source": [],
   "outputs": []
  },
  {
   "cell_type": "markdown",
   "metadata": {},
   "source": [
    "## Extensions\n",
    "\n",
    "### a. Reminder: AI Policy\n",
    "\n",
    "The goal of extensions is to learn and create something new beyond the base project that excites you. To serve this goal and out of fairness to your hardworking classmates, **AI (e.g. ChatGPT, Copilot, etc.) should NOT be used in ANY way on this project and extensions.** This includes both written analysis, plotting, and code. We will only grade **your** work, not an AI's. **We will stop grading your project if we notice AI-generated content (to any capacity).**\n",
    "\n",
    "### b. Guidelines\n",
    "\n",
    "To receive credit for any extension, you must:\n",
    "1. Not modify / prevent any code from the core project from working (e.g. make a copy before changing). In other words, **the notebook test code should still work!**\n",
    "2. **You must describe what you did and what you found in detail**. This includes a summary of parameter values used in your simulations.\n",
    "3. Include (*labeled!*) plots and/or numbers to present your results.\n",
    "4. Write up your extensions below or in a separate notebook.\n",
    "5. Give kudos to all sources, including anyone that you consulted.\n",
    "\n",
    "### c. Suggestions\n",
    "\n",
    "**Rule of thumb: one deep, thorough extension is worth more than several quick, shallow extensions!**\n",
    "\n",
    "The ideas below are **suggested** extensions — feel free to go in another direction related to this project that is not listed!"
   ]
  },
  {
   "cell_type": "markdown",
   "metadata": {},
   "source": [
    "### 1) Image compression\n",
    "\n",
    "- Run K-means on other images and quantify the reduction in space (i.e. compression ratio) required to store each image (with different values of k).\n",
    "\n",
    "*For credit, you must cite your exact sources (specific websites, textbooks, etc.)*"
   ]
  },
  {
   "cell_type": "markdown",
   "metadata": {},
   "source": [
    "### 2) Detect number of clusters in other datasets\n",
    "\n",
    "- Cluster other datasets and create elbow plots to detect the number of clusters."
   ]
  },
  {
   "cell_type": "markdown",
   "metadata": {},
   "source": [
    "### 3) Cluster additional datasets"
   ]
  },
  {
   "cell_type": "markdown",
   "metadata": {},
   "source": [
    "### 4) Other cluster detection metrics\n",
    "\n",
    "- Research number-of-clusters detection metrics (e.g. silhouette score) and compare them to inertia on a dataset of your choice. Which does a better job at detecting number of clusters?\n",
    "\n",
    "*For credit, you must cite your exact sources (specific websites, textbooks, etc.)*"
   ]
  },
  {
   "cell_type": "markdown",
   "metadata": {},
   "source": [
    "### 5) Animate the clustering process\n",
    "\n",
    "- Make an animation showing K-means clustering unfolding across iterations until the algorithm converges. "
   ]
  },
  {
   "cell_type": "markdown",
   "metadata": {},
   "source": [
    "### 6) Leader algorithm\n",
    "\n",
    "- Implement the leader algorithm and compare clustering results and runtime with K-means on datasets of your choice.\n",
    "\n",
    "*For credit, you must cite your exact sources (specific websites, textbooks, etc.)*"
   ]
  },
  {
   "cell_type": "markdown",
   "metadata": {},
   "source": [
    "### 7) K-means++\n",
    "\n",
    "- Research and implement the K-means++ algorithm for initializing the centroids in K-means.\n",
    "\n",
    "*For credit, you must cite your exact sources (specific websites, textbooks, etc.)*"
   ]
  }
 ],
 "metadata": {
  "kernelspec": {
   "display_name": "Python 3",
   "language": "python",
   "name": "python3"
  },
  "language_info": {
   "codemirror_mode": {
    "name": "ipython",
    "version": 3
   },
   "file_extension": ".py",
   "mimetype": "text/x-python",
   "name": "python",
   "nbconvert_exporter": "python",
   "pygments_lexer": "ipython3",
   "version": "3.11.7"
  }
 },
 "nbformat": 4,
 "nbformat_minor": 2
}
