{
 "cells": [
  {
   "attachments": {},
   "cell_type": "markdown",
   "metadata": {},
   "source": [
    "**YOUR NAME HERE**\n",
    "\n",
    "CS 251/2: Data Analysis and Visualization\n",
    "\n",
    "Spring 2024"
   ]
  },
  {
   "cell_type": "code",
   "execution_count": null,
   "metadata": {},
   "source": [
    "import numpy as np\n",
    "import pandas as pd\n",
    "import matplotlib.pyplot as plt\n",
    "from scipy.spatial import distance\n",
    "\n",
    "import kmeans\n",
    "\n",
    "plt.style.use(['seaborn-v0_8-colorblind', 'seaborn-v0_8-darkgrid'])\n",
    "plt.rcParams.update({'font.size': 20})\n",
    "\n",
    "np.set_printoptions(suppress=True, precision=5)\n",
    "\n",
    "# Automatically reload external modules\n",
    "%load_ext autoreload\n",
    "%autoreload 2"
   ],
   "outputs": []
  },
  {
   "cell_type": "markdown",
   "metadata": {},
   "source": [
    "# Project 5 | Clustering\n",
    "\n",
    "## AI Policy\n",
    "\n",
    "To improve the quality of your learning and out of fairness to your hardworking classmates, AI (e.g. ChatGPT, Copilot, etc.) should NOT be used in ANY way on this project and extensions. This includes both written analysis, plotting, and code. I will only grade your work, not the AI's. I will stop grading your project if I notice AI-generated content (in any capacity)."
   ]
  },
  {
   "cell_type": "markdown",
   "metadata": {},
   "source": [
    "## Task 1: K-means clustering\n",
    "\n",
    "In this task, you will implement the K-means clustering algorithm and test your code on simple test data."
   ]
  },
  {
   "cell_type": "markdown",
   "metadata": {},
   "source": [
    "### 1a. Import `super_simple` data\n",
    "\n",
    "- In the cell below, use load in the `super_simple.csv` dataset (30 x,y values). Convert it (if necessary) to a ndarray with shape `(30, 2)`.\n",
    "- Create a scatter plot below to see what the data look like."
   ]
  },
  {
   "cell_type": "code",
   "execution_count": null,
   "metadata": {},
   "source": [],
   "outputs": []
  },
  {
   "attachments": {},
   "cell_type": "markdown",
   "metadata": {},
   "source": [
    "### 1b. Implement and test core K-means methods\n",
    "\n",
    "In this task, you will implement the methods needed to cluster a dataset using K-means. The goal of this subtask is to create a scatterplot with each data sample color-coded based on the cluster it belongs to. You will be testing on the `super_simple` data.\n",
    "\n",
    "In `kmeans.py` implement the following methods, using the following test code to help you out along the way:\n",
    "- `set_data`: Update the data stored by the k-means clustering object.\n",
    "- `get_data`: Return a copy of the data.\n",
    "- `dist_pt_to_pt`: Compute the Euclidean distance from one data sample to one other. See below for formula.\n",
    "- `dist_pt_to_centroids`: Compute the distance from one data sample to all the cluster centroids.\n",
    "- `initialize`: Initalize K-means by setting the initial centroids\n",
    "- `update_labels`: Assign each data sample to the nearest centroid\n",
    "- `update_centroids`: Calculate each cluster's centroid, given the data samples that are assigned to it.\n",
    "- `inertia`: Calculate the mean squared distance between each data sample and its (nearest) centroid. This is a 'quality of clustering' performance metric for analysis\n",
    "- `cluster`: Run K-means to cluster the data. This is the actual method you call to do the clustering (above methods are helper methods).\n",
    "- `plot_clusters`: Creates a scatterplot of the data (2D only) with data assigned to each cluster sharing the same color.\n",
    "\n",
    "**Formula for Euclidean distance:**\n",
    "$$dist \\left (\\vec{p_0}, \\vec{p_1} \\right ) = \\sqrt{\\left (d_{0} - e_{0} \\right )^2 + \\left (d_{1} - e_{1} \\right )^2  + \\ldots}$$\n",
    "\n",
    "for data samples $\\vec{p_0} = \\left (d_{0}, d_{1}, \\ldots \\right )$ and $\\vec{p_1} = \\left (e_{0}, e_{1}, \\ldots \\right )$"
   ]
  },
  {
   "cell_type": "markdown",
   "metadata": {},
   "source": [
    "#### Test constructor"
   ]
  },
  {
   "cell_type": "code",
   "execution_count": null,
   "metadata": {},
   "source": [
    "cluster = kmeans.KMeans(super_simple)\n",
    "print(f'Data isnt none? {np.all(cluster.data is not None)}')\n",
    "print(f'Data num samples isnt none? {np.all(cluster.num_samps is not None)}')\n",
    "print(f'Data num samples is {cluster.num_samps} and should be 30.')\n",
    "print(f'Data num features isnt none? {np.all(cluster.num_features is not None)}')\n",
    "print(f'Data num features is {cluster.num_features} and should be 2.')\n",
    "\n"
   ],
   "outputs": []
  },
  {
   "cell_type": "markdown",
   "metadata": {},
   "source": [
    "#### Test `get_data`"
   ]
  },
  {
   "cell_type": "code",
   "execution_count": null,
   "metadata": {},
   "source": [
    "super_simple_cpy = cluster.get_data()\n",
    "super_simple_cpy[0,:] = -99\n",
    "if np.all(cluster.data[0,:] == -99):\n",
    "    print('You didnt return a copy of the data! Re-import the super_simple data and try again...')\n",
    "else:\n",
    "    print('All good!')"
   ],
   "outputs": []
  },
  {
   "cell_type": "markdown",
   "metadata": {},
   "source": [
    "#### Test `dist_pt_to_pt`"
   ]
  },
  {
   "cell_type": "code",
   "execution_count": null,
   "metadata": {},
   "source": [
    "a = np.array([1, 2, 3, 4])\n",
    "b = 4*a\n",
    "print(f'Your pt-to-pt distance is {cluster.dist_pt_to_pt(a, b)}')\n",
    "print(f'Correct pt-to-pt distance is {np.linalg.norm(a-b)}')"
   ],
   "outputs": []
  },
  {
   "cell_type": "markdown",
   "metadata": {},
   "source": [
    "#### Test `dist_pt_to_centroids`"
   ]
  },
  {
   "cell_type": "code",
   "execution_count": null,
   "metadata": {},
   "source": [
    "test_pt = np.array([[1, 2]])\n",
    "test_centroids = np.array([[9, 9], [11, 11], [0, 0]])\n",
    "print(f'Your pt-to-centroids distance is {cluster.dist_pt_to_centroids(test_pt.flatten(), test_centroids)}')\n",
    "print(f'Correct pt-to-centroids distance is {distance.cdist(test_pt, test_centroids)[0]}')"
   ],
   "outputs": []
  },
  {
   "cell_type": "markdown",
   "metadata": {},
   "source": [
    "#### Test `initialize`"
   ]
  },
  {
   "cell_type": "code",
   "execution_count": null,
   "metadata": {},
   "source": [
    "test_k = 3\n",
    "init_centroids = cluster.initialize(test_k)\n",
    "print(f'Initial cluster centroids shape is:\\n{init_centroids.shape} and should be (3, 2)')"
   ],
   "outputs": []
  },
  {
   "cell_type": "markdown",
   "metadata": {},
   "source": [
    "#### Test `update_labels`"
   ]
  },
  {
   "cell_type": "code",
   "execution_count": null,
   "metadata": {},
   "source": [
    "# Consistently set initial centroids for test\n",
    "init_centroids = np.array([[ 0.338, 4.4672], [-1.8401, 3.1123], [1.7931, 0.5427]])\n",
    "\n",
    "new_labels = cluster.update_labels(init_centroids)\n",
    "print(f'After the first update data label step, 1st 10 of your cluster assignments are:\\n{new_labels[:10]}')\n",
    "print('Your 1st 10 cluster assignments should be:\\n[0 1 1 1 2 0 2 1 2 1]')"
   ],
   "outputs": []
  },
  {
   "attachments": {},
   "cell_type": "markdown",
   "metadata": {},
   "source": [
    "#### Test `update_centroids` (1/2)"
   ]
  },
  {
   "cell_type": "code",
   "execution_count": null,
   "metadata": {},
   "source": [
    "new_centroids, diff_from_prev_centroids = cluster.update_centroids(test_k, new_labels, init_centroids)\n",
    "print(f'After the first centroid update, your cluster assignments are:\\n{new_centroids}')\n",
    "print(f'Your difference from previous centroids:\\n{diff_from_prev_centroids}')\n",
    "print('\\nYou should see:')\n",
    "print('''After the first centroid update, your cluster assignments are:\n",
    "[[ 1.09087  4.29295]\n",
    " [-1.68133  2.85917]\n",
    " [ 2.00717  0.9184 ]]\n",
    "Your difference from previous centroids:\n",
    "[[ 0.75287 -0.17425]\n",
    " [ 0.15877 -0.25313]\n",
    " [ 0.21407  0.3757 ]]\n",
    "''')"
   ],
   "outputs": []
  },
  {
   "attachments": {},
   "cell_type": "markdown",
   "metadata": {},
   "source": [
    "#### Test `update_centroids` (2/2)\n",
    "\n",
    "Test special case when no sample gets assigned to one of the clusters."
   ]
  },
  {
   "cell_type": "code",
   "execution_count": null,
   "metadata": {},
   "source": [
    "np.random.seed(0)\n",
    "\n",
    "print('Test 2: There are 5 clusters, but no samples assigned to 3rd and last cluster.')\n",
    "print('There should be no Runtime warnings thrown and the centroid arrays should not have any nan values.')\n",
    "print(100*'-')\n",
    "test_k_2 = 5\n",
    "new_labels_2 = new_labels.copy()\n",
    "new_labels_2[new_labels_2 == 2] = 3\n",
    "init_centroids_2 = np.vstack([init_centroids, np.random.random(size=(2, 2))])\n",
    "new_centroids_2, diff_from_prev_centroids_2 = cluster.update_centroids(test_k_2, new_labels_2, init_centroids_2)\n",
    "print(f'After the first centroid update, your cluster assignments are:\\n{new_centroids_2}')\n",
    "print(f'Your difference from previous centroids:\\n{diff_from_prev_centroids_2}')"
   ],
   "outputs": []
  },
  {
   "attachments": {},
   "cell_type": "markdown",
   "metadata": {},
   "source": [
    "You should see: \n",
    "    \n",
    "    After the first centroid update, your cluster assignments are:\n",
    "    [[ 1.09087  4.29295]\n",
    "    [-1.68133  2.85917]\n",
    "    [some_float  some_float ]\n",
    "    [ 2.00717  0.9184 ]\n",
    "    [some_float  some_float ]]\n",
    "    Your difference from previous centroids:\n",
    "    [[ 0.75287 -0.17425]\n",
    "    [ 0.15877 -0.25313]\n",
    "    [some_float  some_float ]\n",
    "    [some_float  some_float]\n",
    "    [some_float  some_float]]\n",
    "\n",
    "**NOTE:** Each `some_float` above should be a different random float value and not `nan` or all `0`s."
   ]
  },
  {
   "cell_type": "markdown",
   "metadata": {},
   "source": [
    "#### Test `inertia`"
   ]
  },
  {
   "cell_type": "code",
   "execution_count": null,
   "metadata": {},
   "source": [
    "cluster.centroids = new_centroids\n",
    "cluster.data_centroid_labels = new_labels\n",
    "print(f'After the first test k-means update, your inertia is:\\n{cluster.compute_inertia()}\\nIt should be\\n0.10738760429999998')"
   ],
   "outputs": []
  },
  {
   "attachments": {
    "kmeans_simple_sm.png": {
     "image/png": "[encoded data removed]"
    }
   },
   "cell_type": "markdown",
   "metadata": {},
   "source": [
    "#### Test `plot_clusters` and `cluster`\n",
    "\n",
    "In the cell below:\n",
    "\n",
    "- Run K-means on the `super_simple` dataset, picking $k$ that makes sense.\n",
    "- Run `plot_clusters` to generate a scatterplot showing the cluster assignments of the data in different colors. Nearby samples in your scatterplot should have the same color most of the times that you run your code (*this may not be true **every** time you run your code to generate the plot and that is expected! You are aiming for most of the time.*). Here is an example:\n",
    "\n",
    "![kmeans_simple_sm.png](attachment:kmeans_simple_sm.png)\n",
    "\n",
    "*Remember to specify a custom qualitative color palette.*"
   ]
  },
  {
   "cell_type": "code",
   "execution_count": null,
   "metadata": {},
   "source": [],
   "outputs": []
  },
  {
   "attachments": {
    "elbow_sm.png": {
     "image/png": "[encoded data removed]"
    }
   },
   "cell_type": "markdown",
   "metadata": {
    "tags": [
     "parameters"
    ]
   },
   "source": [
    "### 1c. Determining the number of clusters $k$\n",
    "\n",
    "In this task, you will explore how to determine the number of clusters in a dataset.\n",
    "\n",
    "- Implement `elbow_plot` in `kmeans.py`.\n",
    "- Create an elbow plot below for the `super_simple` dataset. It should look like the below image.\n",
    "\n",
    "**NOTE:** Make sure to include a meaningful x label, y label, and x tick marks.\n",
    "\n",
    "![elbow_sm.png](attachment:elbow_sm.png)"
   ]
  },
  {
   "cell_type": "code",
   "execution_count": null,
   "metadata": {},
   "source": [],
   "outputs": []
  },
  {
   "cell_type": "markdown",
   "metadata": {},
   "source": [
    "### 1d. Questions"
   ]
  },
  {
   "attachments": {},
   "cell_type": "markdown",
   "metadata": {},
   "source": [
    "**Question 1:** How many clusters are there in the `super_simple` data, based on the elbow plot that you made? Briefly explain how you determined this."
   ]
  },
  {
   "attachments": {},
   "cell_type": "markdown",
   "metadata": {},
   "source": [
    "**Answer 1:**"
   ]
  },
  {
   "attachments": {},
   "cell_type": "markdown",
   "metadata": {},
   "source": [
    "### 1e. Clustering the `five_blobs` dataset\n",
    "\n",
    "Load in the `five_blobs` dataset then in the cell below:\n",
    "- create a scatterplot showing the 2D dataset (without any clustering).\n",
    "- run K-means to cluster the dataset with a reasonable number of clusters (based on what you observe in the scatterplot).\n",
    "- create a scatterplot showing the clustered data."
   ]
  },
  {
   "cell_type": "code",
   "execution_count": null,
   "metadata": {},
   "source": [],
   "outputs": []
  },
  {
   "attachments": {},
   "cell_type": "markdown",
   "metadata": {},
   "source": [
    "### 1f. Questions\n",
    "\n",
    "**REMINDER:** You should not be submitting AI generated content (including answers to questions).\n",
    "\n",
    "**Question 2:** Modify your code above to run K-means 5 times. Each time create a scatterplot showing the clusters and change the random seed value (e.g. `np.random.seed(0)`, `np.random.seed(1)`, etc.). The above cell should now output 5 scatter plots. What do you observe about how the cluster assignments match up with the clusters that you see visually? **Why does this happen?**\n",
    "\n",
    "**Question 3:** Modify your code above again to also generate an elbow plot with `k` running from 1 to 10. The above cell should now output 10 plots. How predictive is the elbow plot of the number of clusters in the dataset? In order words, if you had to only rely on the elbow plot to determine the number of clusters (without looking at the scatterplot), how often would you be correct? **Explain your reasoning.**"
   ]
  },
  {
   "attachments": {},
   "cell_type": "markdown",
   "metadata": {},
   "source": [
    "**Answer 2:**\n",
    "\n",
    "**Answer 3:**"
   ]
  },
  {
   "attachments": {},
   "cell_type": "markdown",
   "metadata": {},
   "source": [
    "### 1g. Run K-means multiple times, save the best clustering\n",
    "\n",
    "To address what you observed above, we can run K-means multiple times and take the best results to determine the final clustering. Implement `cluster_batch` to run K-means multiple times with a chosen $k$ value.\n",
    "\n",
    "In the cell below, run `cluster_batch` with 10 iterations for the `k` value you identified in Task 1e above. Make a new scatterplot of the cluster assignments."
   ]
  },
  {
   "cell_type": "code",
   "execution_count": null,
   "metadata": {},
   "source": [
    "# place me before you batch cluster the dataset\n",
    "np.random.seed(0)\n"
   ],
   "outputs": []
  },
  {
   "cell_type": "markdown",
   "metadata": {},
   "source": [
    "### 1h. Questions"
   ]
  },
  {
   "attachments": {},
   "cell_type": "markdown",
   "metadata": {},
   "source": [
    "**Question 4:** Based on the clustered scatter plots, in way ways (if any) did the clustering improve? **Why?**"
   ]
  },
  {
   "attachments": {},
   "cell_type": "markdown",
   "metadata": {},
   "source": [
    "**Answer 4:** "
   ]
  },
  {
   "attachments": {},
   "cell_type": "markdown",
   "metadata": {},
   "source": [
    "### 1i. Update elbow plot for the `five_blobs` dataset\n",
    "\n",
    "Now that you have experimented with `cluster` and `cluster_batch`, update your `elbow_plot` method to use `cluster_batch` instead of `cluster`. To do this, add a keyword argument `n_iter` to `elbow_plot`. Give it a default value of 1. (*And don't forget to update the docstring to include the new parameter!*)\n",
    "\n",
    "In the cell below, test out your updated `elbow_plot` method using the same max $k$ value and number of iterations (for each $k$ value) as you used above. Create an elbow plot showing the inertia with different $k$ values."
   ]
  },
  {
   "cell_type": "code",
   "execution_count": null,
   "metadata": {},
   "source": [],
   "outputs": []
  },
  {
   "cell_type": "markdown",
   "metadata": {},
   "source": [
    "### 1j. Questions"
   ]
  },
  {
   "attachments": {},
   "cell_type": "markdown",
   "metadata": {},
   "source": [
    "**Question 5:** How predictive is the updated elbow plot of the number of clusters in the dataset compared to the previous ones that you made?"
   ]
  },
  {
   "attachments": {},
   "cell_type": "markdown",
   "metadata": {},
   "source": [
    "**Answer 5:** "
   ]
  }
 ],
 "metadata": {
  "kernelspec": {
   "display_name": "Python 3 (ipykernel)",
   "language": "python",
   "name": "python3"
  },
  "language_info": {
   "codemirror_mode": {
    "name": "ipython",
    "version": 3
   },
   "file_extension": ".py",
   "mimetype": "text/x-python",
   "name": "python",
   "nbconvert_exporter": "python",
   "pygments_lexer": "ipython3",
   "version": "3.11.7"
  },
  "vscode": {
   "interpreter": {
    "hash": "aee8b7b246df8f9039afb4144a1f6fd8d2ca17a180786b69acc140d282b71a49"
   }
  }
 },
 "nbformat": 4,
 "nbformat_minor": 4
}
