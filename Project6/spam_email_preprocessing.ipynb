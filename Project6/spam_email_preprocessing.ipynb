{
 "cells": [
  {
   "cell_type": "markdown",
   "metadata": {},
   "source": [
    "**YOUR NAME HERE**\n",
    "\n",
    "CS 251: Data Analysis and Visualization\n",
    "\n",
    "Spring 2024\n",
    "\n",
    "# Project 6 | Supervised Learning"
   ]
  },
  {
   "cell_type": "code",
   "metadata": {
    "ExecuteTime": {
     "end_time": "2024-05-22T17:04:53.606852Z",
     "start_time": "2024-05-22T17:04:53.579009Z"
    }
   },
   "source": [
    "import numpy as np\n",
    "\n",
    "np.set_printoptions(suppress=True, precision=5)\n",
    "\n",
    "# Automatically reload external modules\n",
    "%load_ext autoreload\n",
    "%autoreload 2"
   ],
   "outputs": [
    {
     "name": "stdout",
     "output_type": "stream",
     "text": [
      "The autoreload extension is already loaded. To reload it, use:\n",
      "  %reload_ext autoreload\n"
     ]
    }
   ],
   "execution_count": 36
  },
  {
   "cell_type": "markdown",
   "metadata": {},
   "source": [
    "## Task 2: Spam email preprocessing pipeline\n",
    "\n",
    "Before you can build a spam email filter, you need to transform the email data into a suitable format so that KNN or other supervised learning algorithms can process them (this is called **preprocessing**).\n",
    "\n",
    "In this project, you will work with the **Enron email dataset**, a large dataset consisting of ~34,000 emails. Enron is an energy company that famously went bankrupt in the early 2000s after committing massive accounting fraud (more info: https://en.wikipedia.org/wiki/Enron). The US government seized company emails during their investigation and they were released to the public much later and nowadays is a commonly used dataset in machine learning. \n",
    "\n",
    "Your eventual goal will be to train a supervised learning algorithm on some of the emails and predict whether the remaining ones are spam or not.\n",
    "\n",
    "But first...onto the preprocessing!"
   ]
  },
  {
   "cell_type": "markdown",
   "metadata": {},
   "source": [
    "### Overall preprocessing strategy\n",
    "\n",
    "We need to turn each email's text into something an algorithm can process (**features**). We will use a simple type of feature: **bag of words counts**. That is, we will reduce an email into a vector of how many times words appeared in it.\n",
    "\n",
    "*Problem:* There are too many words across all the emails. Processing the counts in each email would take too long. For example, there are more than 40,000 words across all the emails. If we were trying to predict whether 1,000 emails are spam or not, we would need to build a `1000 x 40000` matrix (count each of the 40,000 words in each of the 1,000 emails), which would take a very long time to process by the supervised learning algorithm. \n",
    "\n",
    "A work-around that works quite well is to restrict ourselves to the most frequent $W$ words in the email dataset. You can experiment with how many words to include (e.g. as an extension), but for concreteness we will set this $W=200$ in the core project. In the above example, we can then process `1000 x 200` matrix much more quickly."
   ]
  },
  {
   "cell_type": "markdown",
   "metadata": {},
   "source": [
    "### 2a. Determine email word frequency\n",
    "\n",
    "The large size of the enron email dataset makes the debugging process cumbersome. In situations like this, it is common to work with a **development dataset** — a mini version of the full dataset that is much faster to work with. The enron dev dataset has 2 ham emails and 3 spam emails. \n",
    "\n",
    "- Download and extract the **Enron dev** emails. You should see a base `enron` folder, with `spam` and `ham` subfolders (these are the 2 classes), and documents in each with the raw email text. There should be 2 files in the ham folder and 3 files in the spam folder.\n",
    "- In `email_preprocessor.py` implement `count_words(email_path)` to build up a python dictionary of all the words in the dataset (keys) and their associated counts (values).\n",
    "- Write `find_top_words(word_freq)` to parse the dictionary and determine the top $W$ words."
   ]
  },
  {
   "cell_type": "code",
   "metadata": {
    "ExecuteTime": {
     "end_time": "2024-05-22T17:04:53.633080Z",
     "start_time": "2024-05-22T17:04:53.607873Z"
    }
   },
   "source": [
    "import email_preprocessor as epp"
   ],
   "outputs": [],
   "execution_count": 37
  },
  {
   "cell_type": "markdown",
   "metadata": {},
   "source": [
    "#### Test `count_words` and `find_top_words`"
   ]
  },
  {
   "cell_type": "code",
   "metadata": {
    "ExecuteTime": {
     "end_time": "2024-05-22T17:04:53.659542Z",
     "start_time": "2024-05-22T17:04:53.633080Z"
    }
   },
   "source": [
    "word_freq, num_emails = epp.count_words(email_path='data/enron_dev/')"
   ],
   "outputs": [],
   "execution_count": 38
  },
  {
   "cell_type": "code",
   "metadata": {
    "ExecuteTime": {
     "end_time": "2024-05-22T17:04:53.686552Z",
     "start_time": "2024-05-22T17:04:53.661563Z"
    }
   },
   "source": [
    "print(f'You found {num_emails} emails in the datset. You should have found 5.')"
   ],
   "outputs": [
    {
     "name": "stdout",
     "output_type": "stream",
     "text": [
      "You found 5 emails in the datset. You should have found 5.\n"
     ]
    }
   ],
   "execution_count": 39
  },
  {
   "cell_type": "code",
   "metadata": {
    "ExecuteTime": {
     "end_time": "2024-05-22T17:04:53.713163Z",
     "start_time": "2024-05-22T17:04:53.687571Z"
    }
   },
   "source": [
    "top_words, top_counts = epp.find_top_words(word_freq)\n",
    "print(f\"You found {len(top_words)}/19 words.\")\n",
    "print(f\"Your top 2 words are\\n{top_words[:2]}\\nand they should be\\n['subject', 'you']\")\n",
    "print(f\"The counts of all the words are\\n{top_counts}\\nand they should be\\n[5, 2, 1, 1, 1, 1, 1, 1, 1, 1, 1, 1, 1, 1, 1, 1, 1, 1, 1]\")\n",
    "print(f\"The 19 words should are\\n{top_words}\\n and they should be \\n['subject', 'you', 'get', 'that', 'new', 'car', 'now', 'can', 'be', 'smart', 'love', 'ecards', 'christmas', 'tree', 'farm', 'pictures', 're', 'rankings', 'thank']\\nwith the last 17 words in any order (because their counts are tied)\")"
   ],
   "outputs": [
    {
     "name": "stdout",
     "output_type": "stream",
     "text": [
      "You found 19/19 words.\n",
      "Your top 2 words are\n",
      "['subject', 'you']\n",
      "and they should be\n",
      "['subject', 'you']\n",
      "The counts of all the words are\n",
      "[5, 2, 1, 1, 1, 1, 1, 1, 1, 1, 1, 1, 1, 1, 1, 1, 1, 1, 1]\n",
      "and they should be\n",
      "[5, 2, 1, 1, 1, 1, 1, 1, 1, 1, 1, 1, 1, 1, 1, 1, 1, 1, 1]\n",
      "The 19 words should are\n",
      "['subject', 'you', 'christmas', 'tree', 'farm', 'pictures', 're', 'rankings', 'thank', 'love', 'ecards', 'can', 'be', 'smart', 'get', 'that', 'new', 'car', 'now']\n",
      " and they should be \n",
      "['subject', 'you', 'get', 'that', 'new', 'car', 'now', 'can', 'be', 'smart', 'love', 'ecards', 'christmas', 'tree', 'farm', 'pictures', 're', 'rankings', 'thank']\n",
      "with the last 17 words in any order (because their counts are tied)\n"
     ]
    }
   ],
   "execution_count": 40
  },
  {
   "cell_type": "markdown",
   "metadata": {},
   "source": [
    "### 2b. Make feature vectors based only on the top word counts\n",
    "\n",
    "- Implement `make_feature_vectors`: Go back through the email folder structure and parse each email again. Now only count the frequency of words that are in the top $W$ word list. Keep track of whether each of these feature vectors are associated with a spam or not spam email."
   ]
  },
  {
   "cell_type": "code",
   "metadata": {
    "ExecuteTime": {
     "end_time": "2024-05-22T17:05:08.765806Z",
     "start_time": "2024-05-22T17:05:08.738606Z"
    }
   },
   "source": [
    "hard_code_words = ['subject', 'you', 'get', 'that', 'new', 'car', 'now', 'can', 'be', 'smart', 'love', 'ecards', 'christmas', 'tree', 'farm', 'pictures', 're', 'rankings', 'thank']\n",
    "features, y = epp.make_feature_vectors(hard_code_words, num_emails, email_path='data/enron_dev/')"
   ],
   "outputs": [],
   "execution_count": 46
  },
  {
   "cell_type": "code",
   "metadata": {
    "ExecuteTime": {
     "end_time": "2024-05-22T17:05:15.158800Z",
     "start_time": "2024-05-22T17:05:15.130507Z"
    }
   },
   "source": [
    "firstSpamWordCounts = np.array([1, 0, 1, 1, 1, 1, 1, 0, 0, 0, 0, 0, 0, 0, 0, 0, 0, 0, 0])\n",
    "\n",
    "\n",
    "print(f'Your matrix of features has shape:\\n{features.shape}\\nand it should be\\n(5, 19).')\n",
    "print(f'Your class label vector has shape:\\n{y.shape}\\nand it should be\\n(5,).')\n",
    "print(\"Make sure your features have 0's and 1's in every row\")\n",
    "print(features)\n",
    "print('\\nBelow, one number should be 3, the other should be 2.')\n",
    "print(f'Number of emails of class 0: {np.sum(y == 0)}\\nNumber of emails of class 1: {np.sum(y == 1)}')\n",
    "\n",
    "inds = np.arange(len(features))\n",
    "test_ind = inds[np.all(firstSpamWordCounts == features, axis=1)]\n",
    "print(f'\\nYour vector for 2958.2004-11-03.GP.spam.txt matches expected counts?\\n{len(test_ind) == 1}\\n')"
   ],
   "outputs": [
    {
     "name": "stdout",
     "output_type": "stream",
     "text": [
      "Your matrix of features has shape:\n",
      "(5, 19)\n",
      "and it should be\n",
      "(5, 19).\n",
      "Your class label vector has shape:\n",
      "(5,)\n",
      "and it should be\n",
      "(5,).\n",
      "Make sure your features have 0's and 1's in every row\n",
      "[[1. 0. 0. 0. 0. 0. 0. 0. 0. 0. 0. 0. 1. 1. 1. 1. 0. 0. 0.]\n",
      " [1. 1. 0. 0. 0. 0. 0. 0. 0. 0. 0. 0. 0. 0. 0. 0. 1. 1. 1.]\n",
      " [1. 0. 0. 0. 0. 0. 0. 0. 0. 0. 1. 1. 0. 0. 0. 0. 0. 0. 0.]\n",
      " [1. 1. 0. 0. 0. 0. 0. 1. 1. 1. 0. 0. 0. 0. 0. 0. 0. 0. 0.]\n",
      " [1. 0. 1. 1. 1. 1. 1. 0. 0. 0. 0. 0. 0. 0. 0. 0. 0. 0. 0.]]\n",
      "\n",
      "Below, one number should be 3, the other should be 2.\n",
      "Number of emails of class 0: 2\n",
      "Number of emails of class 1: 3\n",
      "\n",
      "Your vector for 2958.2004-11-03.GP.spam.txt matches expected counts?\n",
      "True\n",
      "\n"
     ]
    }
   ],
   "execution_count": 47
  },
  {
   "cell_type": "markdown",
   "metadata": {},
   "source": [
    "### 2c. Make train and test splits of the dataset\n",
    "\n",
    "Your matrix of features is for the entire dataset. We can't train the classifier on all these because then we won't have any emails left over to see how well your model's ability to discriminate spam/ham email generalizes to emails not seen during training!\n",
    "\n",
    "Implement `make_train_test_sets` to divide the email features into a 80/20 train/test split (80% of data used to train the supervised learning model, 20% we withhold and use for testing / prediction)."
   ]
  },
  {
   "cell_type": "code",
   "metadata": {
    "ExecuteTime": {
     "end_time": "2024-05-22T17:05:52.012091Z",
     "start_time": "2024-05-22T17:05:51.986323Z"
    }
   },
   "source": [
    "np.random.seed(0)\n",
    "x_train, y_train, inds_train, x_test, y_test, inds_test = epp.make_train_test_sets(features, y)"
   ],
   "outputs": [],
   "execution_count": 48
  },
  {
   "cell_type": "code",
   "metadata": {
    "ExecuteTime": {
     "end_time": "2024-05-22T17:05:54.163223Z",
     "start_time": "2024-05-22T17:05:54.137200Z"
    }
   },
   "source": [
    "print('Shapes for train/test splits:')\n",
    "print(f'Train {x_train.shape}, classes {y_train.shape}')\n",
    "print(f'Test {x_test.shape}, classes {y_test.shape}')\n",
    "print('\\nThey should be:\\nTrain (4, 19), classes (4,)\\nTest (1, 19), classes (1,)')"
   ],
   "outputs": [
    {
     "name": "stdout",
     "output_type": "stream",
     "text": [
      "Shapes for train/test splits:\n",
      "Train (4, 19), classes (4,)\n",
      "Test (1, 19), classes (1,)\n",
      "\n",
      "They should be:\n",
      "Train (4, 19), classes (4,)\n",
      "Test (1, 19), classes (1,)\n"
     ]
    }
   ],
   "execution_count": 49
  },
  {
   "cell_type": "markdown",
   "metadata": {},
   "source": [
    "## Task 3: Preprocess full spam email dataset \n",
    "\n",
    "Now that you have tested your email preprocessing on small test cases, let's pass the actual Enron emails through your preprocessing code to create the full email dataset.\n",
    "\n",
    "Download and extract the full **Enron** emails (*zip file should be ~29MB large*). You should see a base `enron` folder, with `spam` and `ham` subfolders when you extract the zip file (these are the 2 classes).\n",
    "\n",
    "Run the test code below to check everything over."
   ]
  },
  {
   "cell_type": "markdown",
   "metadata": {},
   "source": [
    "### 3a. Preprocess dataset"
   ]
  },
  {
   "cell_type": "markdown",
   "metadata": {},
   "source": [
    "#### Test `count_words` and `find_top_words`"
   ]
  },
  {
   "cell_type": "code",
   "metadata": {
    "ExecuteTime": {
     "end_time": "2024-05-22T17:06:06.121548Z",
     "start_time": "2024-05-22T17:06:06.079835Z"
    }
   },
   "source": [
    "word_freq, num_emails = epp.count_words()"
   ],
   "outputs": [
    {
     "ename": "UnicodeDecodeError",
     "evalue": "'charmap' codec can't decode byte 0x8d in position 4901: character maps to <undefined>",
     "output_type": "error",
     "traceback": [
      "\u001B[1;31m---------------------------------------------------------------------------\u001B[0m",
      "\u001B[1;31mUnicodeDecodeError\u001B[0m                        Traceback (most recent call last)",
      "Cell \u001B[1;32mIn[50], line 1\u001B[0m\n\u001B[1;32m----> 1\u001B[0m word_freq, num_emails \u001B[38;5;241m=\u001B[39m \u001B[43mepp\u001B[49m\u001B[38;5;241;43m.\u001B[39;49m\u001B[43mcount_words\u001B[49m\u001B[43m(\u001B[49m\u001B[43m)\u001B[49m\n",
      "File \u001B[1;32m~\\Documents\\Coding\\dataVisualization\\Project6\\email_preprocessor.py:60\u001B[0m, in \u001B[0;36mcount_words\u001B[1;34m(email_path)\u001B[0m\n\u001B[0;32m     56\u001B[0m \u001B[38;5;28;01mfor\u001B[39;00m file \u001B[38;5;129;01min\u001B[39;00m files:\n\u001B[0;32m     57\u001B[0m     \u001B[38;5;66;03m# Read the file\u001B[39;00m\n\u001B[0;32m     58\u001B[0m     \u001B[38;5;28;01mwith\u001B[39;00m \u001B[38;5;28mopen\u001B[39m(os\u001B[38;5;241m.\u001B[39mpath\u001B[38;5;241m.\u001B[39mjoin(root, file), \u001B[38;5;124m'\u001B[39m\u001B[38;5;124mr\u001B[39m\u001B[38;5;124m'\u001B[39m) \u001B[38;5;28;01mas\u001B[39;00m f:\n\u001B[0;32m     59\u001B[0m         \u001B[38;5;66;03m# Tokenize the words\u001B[39;00m\n\u001B[1;32m---> 60\u001B[0m         words \u001B[38;5;241m=\u001B[39m tokenize_words(f\u001B[38;5;241m.\u001B[39mread())\n\u001B[0;32m     61\u001B[0m         \u001B[38;5;66;03m# Update the word frequency dictionary\u001B[39;00m\n\u001B[0;32m     62\u001B[0m         \u001B[38;5;28;01mfor\u001B[39;00m word \u001B[38;5;129;01min\u001B[39;00m words:\n",
      "File \u001B[1;32m~\\AppData\\Local\\Programs\\Python\\Python311\\Lib\\encodings\\cp1252.py:23\u001B[0m, in \u001B[0;36mIncrementalDecoder.decode\u001B[1;34m(self, input, final)\u001B[0m\n\u001B[0;32m     22\u001B[0m \u001B[38;5;28;01mdef\u001B[39;00m \u001B[38;5;21mdecode\u001B[39m(\u001B[38;5;28mself\u001B[39m, \u001B[38;5;28minput\u001B[39m, final\u001B[38;5;241m=\u001B[39m\u001B[38;5;28;01mFalse\u001B[39;00m):\n\u001B[1;32m---> 23\u001B[0m     \u001B[38;5;28;01mreturn\u001B[39;00m codecs\u001B[38;5;241m.\u001B[39mcharmap_decode(\u001B[38;5;28minput\u001B[39m,\u001B[38;5;28mself\u001B[39m\u001B[38;5;241m.\u001B[39merrors,decoding_table)[\u001B[38;5;241m0\u001B[39m]\n",
      "\u001B[1;31mUnicodeDecodeError\u001B[0m: 'charmap' codec can't decode byte 0x8d in position 4901: character maps to <undefined>"
     ]
    }
   ],
   "execution_count": 50
  },
  {
   "cell_type": "code",
   "metadata": {
    "ExecuteTime": {
     "end_time": "2024-05-22T17:06:06.853022Z",
     "start_time": "2024-05-22T17:06:06.827008Z"
    }
   },
   "source": [
    "print(f'You found {num_emails} emails in the datset. You should have found 32625.')"
   ],
   "outputs": [
    {
     "name": "stdout",
     "output_type": "stream",
     "text": [
      "You found 5 emails in the datset. You should have found 32625.\n"
     ]
    }
   ],
   "execution_count": 51
  },
  {
   "cell_type": "code",
   "metadata": {
    "ExecuteTime": {
     "end_time": "2024-05-22T17:06:08.430575Z",
     "start_time": "2024-05-22T17:06:08.402880Z"
    }
   },
   "source": [
    "top_words, top_counts = epp.find_top_words(word_freq)\n",
    "print(f\"Your top 10 words are\\n{top_words[:10]}\\nand they should be\\n['the', 'to', 'and', 'of', 'a', 'in', 'for', 'you', 'is', 'enron']\")\n",
    "print(f\"The associated counts are\\n{top_counts[:10]}\\nand they should be\\n[277459, 203659, 148873, 139578, 111796, 100961, 80765, 77592, 68097, 60852]\")"
   ],
   "outputs": [
    {
     "name": "stdout",
     "output_type": "stream",
     "text": [
      "Your top 10 words are\n",
      "['subject', 'you', 'christmas', 'tree', 'farm', 'pictures', 're', 'rankings', 'thank', 'love']\n",
      "and they should be\n",
      "['the', 'to', 'and', 'of', 'a', 'in', 'for', 'you', 'is', 'enron']\n",
      "The associated counts are\n",
      "[5, 2, 1, 1, 1, 1, 1, 1, 1, 1]\n",
      "and they should be\n",
      "[277459, 203659, 148873, 139578, 111796, 100961, 80765, 77592, 68097, 60852]\n"
     ]
    }
   ],
   "execution_count": 52
  },
  {
   "cell_type": "markdown",
   "metadata": {},
   "source": [
    "### 3b. Make feature and class vectors"
   ]
  },
  {
   "cell_type": "code",
   "metadata": {},
   "source": [
    "features, y = epp.make_feature_vectors(top_words, num_emails)"
   ],
   "outputs": [],
   "execution_count": null
  },
  {
   "cell_type": "markdown",
   "metadata": {},
   "source": [
    "#### Verify class label coding\n",
    "\n",
    "There are\n",
    "- 16544 `ham` emails\n",
    "- 16081 `spam` emails.\n",
    "\n",
    "In the cell below, print out the number of emails that have class label `0` and the number that have class label `1`.\n",
    "- The count for class label `0` should be 16544\n",
    "- The count for class label `1` should be 16081.\n",
    "\n",
    "If the counts across the labels are reversed, recode class label `0` as `1` and class label `1` as `0` in the label vector `y`. If you do this, print out the counts for each label again and verify you get the above counts."
   ]
  },
  {
   "cell_type": "code",
   "metadata": {},
   "source": [],
   "outputs": [],
   "execution_count": null
  },
  {
   "cell_type": "markdown",
   "metadata": {},
   "source": [
    "### 3b. Make train and test splits of the dataset\n",
    "\n",
    "Here we divide the email features into a 80/20 train/test split (80% of data used to train the supervised learning model, 20% we withhold and use for testing / prediction)."
   ]
  },
  {
   "cell_type": "code",
   "metadata": {},
   "source": [
    "np.random.seed(0)\n",
    "x_train, y_train, inds_train, x_test, y_test, inds_test = epp.make_train_test_sets(features, y)\n",
    "\n",
    "print('Shapes for train/test splits:')\n",
    "print(f'Train {x_train.shape}, classes {y_train.shape}')\n",
    "print(f'Test {x_test.shape}, classes {y_test.shape}')\n",
    "print('\\nThey should be:\\nTrain (26100, 200), classes (26100,)\\nTest (6525, 200), classes (6525,)')"
   ],
   "outputs": [],
   "execution_count": null
  },
  {
   "cell_type": "markdown",
   "metadata": {},
   "source": [
    "### 3c. Save data in binary format\n",
    "\n",
    "It adds a lot of overhead to have to run through your raw email -> train/test feature split every time you wanted to work on your project! In this step, you will export the data in memory to disk in a binary format. That way, you can quickly load all the data back into memory (directly in ndarray format) whenever you want to work with it again. No need to parse from text files!\n",
    "\n",
    "Running the following cell uses numpy's `save` function to make six files in `.npy` format (e.g. `email_train_x.npy`, `email_train_y.npy`, `email_train_inds.npy`, `email_test_x.npy`, `email_test_y.npy`, `email_test_inds.npy`)."
   ]
  },
  {
   "cell_type": "code",
   "metadata": {},
   "source": [
    "np.save('data/email_train_x.npy', x_train)\n",
    "np.save('data/email_train_y.npy', y_train)\n",
    "np.save('data/email_train_inds.npy', inds_train)\n",
    "np.save('data/email_test_x.npy', x_test)\n",
    "np.save('data/email_test_y.npy', y_test)\n",
    "np.save('data/email_test_inds.npy', inds_test)"
   ],
   "outputs": [],
   "execution_count": null
  }
 ],
 "metadata": {
  "kernelspec": {
   "display_name": "Python 3",
   "language": "python",
   "name": "python3"
  },
  "language_info": {
   "codemirror_mode": {
    "name": "ipython",
    "version": 3
   },
   "file_extension": ".py",
   "mimetype": "text/x-python",
   "name": "python",
   "nbconvert_exporter": "python",
   "pygments_lexer": "ipython3",
   "version": "3.11.7"
  }
 },
 "nbformat": 4,
 "nbformat_minor": 2
}
