{
 "cells": [
  {
   "cell_type": "markdown",
   "metadata": {},
   "source": [
    "**YOUR NAME**\n",
    "\n",
    "Spring 2024\n",
    "\n",
    "CS 251: Data Analysis and Visualization"
   ]
  },
  {
   "cell_type": "markdown",
   "metadata": {},
   "source": [
    "# Lab 6a |  K-Nearest Neighbor Classifier\n",
    "\n",
    "In this lab we will be using the library scikit-learn to train a K-Nearest Neighbor classifier and graph the results."
   ]
  },
  {
   "cell_type": "code",
   "execution_count": null,
   "metadata": {},
   "outputs": [],
   "source": [
    "import numpy as np\n",
    "import matplotlib.pyplot as plt\n",
    "import pandas as pd\n",
    "from matplotlib.colors import ListedColormap\n",
    "from sklearn import neighbors\n",
    "\n",
    "plt.style.use(['seaborn-v0_8-colorblind', 'seaborn-v0_8-darkgrid'])\n",
    "plt.rcParams.update({'font.size': 20})\n",
    "\n",
    "np.set_printoptions(suppress=True, precision=5)\n",
    "\n",
    "# Automatically reload external modules\n",
    "%load_ext autoreload\n",
    "%autoreload 2"
   ]
  },
  {
   "cell_type": "markdown",
   "metadata": {},
   "source": [
    "## Task 1: Load and visualize dataset\n",
    "\n",
    "- Below, load in the datasets (`file_train.csv`, `file_test.csv`). the training set has 800 samples and the test set has 200 samples.\n",
    "- Create a figure with two subplots showing the train and test data side-by-side.\n",
    "    - Be sure to label your subplots with informative titles (which datset are we looking at?).\n",
    "    - Color-code the points based on their class.\n",
    "    - Set the figure size to make everything clearly legible (not microscopic).\n",
    "\n",
    "#### Format of data\n",
    "- Column 1: x coordinate of a 2D point.\n",
    "- Column 2: y coordinate of a 2D point.\n",
    "- Column 3: class. Which spiral arm does the point belong to? Labels: [0, 1]"
   ]
  },
  {
   "cell_type": "code",
   "execution_count": null,
   "metadata": {},
   "outputs": [],
   "source": []
  },
  {
   "cell_type": "markdown",
   "metadata": {},
   "source": [
    "## Task 2: Predict dataset and graph results\n",
    "\n",
    "1. Create a [K-Nearest Neighbors Classifier](https://scikit-learn.org/stable/modules/generated/sklearn.neighbors.KNeighborsClassifier.html) [(More Info)](https://scikit-learn.org/stable/modules/neighbors.html#classification).  Set `n_neighbors` equal to 10.\n",
    "2. Use the fit method with the coordinate columns of the training dataset as X and the class column as the target.\n",
    "3. Calculate the accuracy of the classifier with the test data using the score method.\n",
    "4. Print the accuracy of the classifier.\n",
    "    "
   ]
  },
  {
   "cell_type": "code",
   "execution_count": null,
   "metadata": {},
   "outputs": [],
   "source": [
    "print(\"Your accuracy should be 0.92\")"
   ]
  },
  {
   "cell_type": "markdown",
   "metadata": {},
   "source": [
    "## Task 3: Visualize class boundaries\n",
    "\n",
    "Visualize how different regions of the (2D) dataspace would be classified based on the results of the trained KNN Classifier from Task 2.\n",
    "\n",
    "### 3a. Meshgrid\n",
    "\n",
    "Create a meshgrid for predicting values. This is a collection of evenly spaced `(x, y)` values that sample a rectangular region of space.\n",
    "\n",
    "1. Use [linspace](https://numpy.org/doc/stable/reference/generated/numpy.linspace.html) to make an 1D ndarray of evenly spaced values, one for your x variable, one for your y variable.\n",
    "   1. Set the start argument to the min value of your column -.5\n",
    "   2. Set the end argument to the max value of your column +.5\n",
    "   3. Set the number of samples to 300\n",
    " 2. Assign `x_samples` and `y_samples` to [meshgrid](https://docs.scipy.org/doc/numpy/reference/generated/numpy.meshgrid.html) with the evenly spaced values as the arguments for x1 and x2. Both `x_samples` and `y_samples` should have shape `(300, 300)` (i.e. the x and y values on the 2D 300x300 grid). \n",
    "    1. [Flatten](https://docs.scipy.org/doc/numpy/reference/generated/numpy.matrix.flatten.html)`x_samples` and `y_samples` and save into new variables.\n",
    "    2. Reshape each of the flattened x_samples and y_samples to shape `(N, 1)` then [stack them](https://numpy.org/doc/stable/reference/generated/numpy.hstack.html#numpy.hstack) to create an `(N, 2)` ndarray.\n",
    "\n",
    "### 3b. Compute KNN predictions\n",
    "\n",
    "Use your coordinate pairs as predict inputs for the knn classifier you created in Task 2. Reshape the results to the same shape as `x_samples` `(300, 300)`. These are the KNN predictions at every (x, y) sample point on the grid.\n",
    "\n",
    "### 3c. Plot the KNN predictions\n",
    "\n",
    "In 1 plot, graph your results. The goal is to color every portion of the `x`-`y` plane within the region of possible data values one of two colors: one color if KNN predicts class 0 at (`x_samples`, `y_samples`), the other color if KNN predicts class 1. This plot resembles two paints poured out from two buckets covering every location on the `x`-`y` plane. You will then superimpose a scatterplot of the original data samples on the colored space.\n",
    "    \n",
    "1. Use [pcolormesh](https://matplotlib.org/stable/api/_as_gen/matplotlib.pyplot.pcolormesh.html) to plot a heatmap showing the KNN predictions at every point in the 2D grid. You should plug in three ndarrays and each should have shape `(300, 300)`.\n",
    "2. We need to specify a colormap to have [pcolormesh](https://matplotlib.org/stable/api/_as_gen/matplotlib.pyplot.pcolormesh.html) color `x`-`y` plane with two colors. The problem is that none of the built-in colormaps have exactly the two colors we want, so we need to create a custom colormap. A [ListedColormap](https://matplotlib.org/stable/api/_as_gen/matplotlib.colors.ListedColormap.html) object represents a custom colormap that can be passed into the `cmap` keyword argument of pcolormesh. Create two [(example)](https://matplotlib.org/stable/tutorials/colors/colormap-manipulation.html):\n",
    "     1. One should have 2 light colors [colors](https://matplotlib.org/stable/gallery/color/named_colors.html). These will be your \"paint colors\" for the predicted class at every (`x`, `y`) coordinate.\n",
    "     2. One should have dark versions of the same 2 [colors](https://matplotlib.org/stable/gallery/color/named_colors.html). These will be your colors for the original data samples superimposed.\n",
    " 3. In your [pcolormesh](https://matplotlib.org/stable/api/_as_gen/matplotlib.pyplot.pcolormesh.html) call, set the `cmap` to the light custom colormap that you created.\n",
    " 4. Superimpose the training samples with using a scatter plot colored based on the int-coded training class labels, but for the actual colors use the dark value colormap. You will need to set both the `c` and `cmap` keyword arguments of `scatter`.\n",
    " 5. Title your plot and label the axis."
   ]
  },
  {
   "cell_type": "code",
   "execution_count": null,
   "metadata": {},
   "outputs": [],
   "source": []
  },
  {
   "cell_type": "code",
   "execution_count": null,
   "metadata": {},
   "outputs": [],
   "source": []
  }
 ],
 "metadata": {
  "kernelspec": {
   "display_name": "Python 3 (ipykernel)",
   "language": "python",
   "name": "python3"
  },
  "language_info": {
   "codemirror_mode": {
    "name": "ipython",
    "version": 3
   },
   "file_extension": ".py",
   "mimetype": "text/x-python",
   "name": "python",
   "nbconvert_exporter": "python",
   "pygments_lexer": "ipython3",
   "version": "3.11.7"
  }
 },
 "nbformat": 4,
 "nbformat_minor": 4
}
