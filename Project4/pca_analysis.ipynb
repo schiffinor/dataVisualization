{
 "cells": [
  {
   "cell_type": "markdown",
   "id": "88c62ba4",
   "metadata": {},
   "source": [
    "**YOUR NAME HERE**\n",
    "\n",
    "Spring 2024\n",
    "\n",
    "CS 251 / 252: Data Analysis and Visualization\n",
    "\n",
    "Project 4: Principal Component Analysis"
   ]
  },
  {
   "cell_type": "code",
   "execution_count": null,
   "id": "bc26ffff",
   "metadata": {},
   "source": [
    "import numpy as np\n",
    "import matplotlib.pyplot as plt\n",
    "import pandas as pd\n",
    "\n",
    "import pca\n",
    "\n",
    "plt.style.use(['seaborn-v0_8-colorblind', 'seaborn-v0_8-darkgrid'])\n",
    "plt.rcParams.update({'font.size': 20})\n",
    "\n",
    "np.set_printoptions(suppress=True, precision=5)\n",
    "\n",
    "# Automatically reload external modules\n",
    "%load_ext autoreload\n",
    "%autoreload 2"
   ],
   "outputs": []
  },
  {
   "cell_type": "markdown",
   "id": "ed56ca30",
   "metadata": {},
   "source": [
    "## Task 3: Analyzing the results of PCA\n",
    "\n",
    "In this task, you will apply PCA to the Iris dataset and analyze properties of the PCA representation."
   ]
  },
  {
   "cell_type": "markdown",
   "id": "8dfe070d",
   "metadata": {},
   "source": [
    "### 3a. Import Iris data\n",
    "\n",
    "In the cell below:\n",
    "- load in the Iris dataset into a pandas DataFrame.\n",
    "- select all numeric headers (i.e. drop `species`).\n",
    "- Print out the head (only showing the first 5 data samples).\n",
    "\n",
    "You should see (with better formatting):\n",
    "\n",
    "```\n",
    "\tsepal_length\tsepal_width\tpetal_length\tpetal_width\n",
    "0\t5.1\t3.5\t1.4\t0.2\n",
    "1\t4.9\t3.0\t1.4\t0.2\n",
    "2\t4.7\t3.2\t1.3\t0.2\n",
    "3\t4.6\t3.1\t1.5\t0.2\n",
    "4\t5.0\t3.6\t1.4\t0.2\n",
    "```"
   ]
  },
  {
   "cell_type": "code",
   "execution_count": null,
   "id": "52fbbf9a",
   "metadata": {},
   "source": [],
   "outputs": []
  },
  {
   "cell_type": "markdown",
   "id": "8728ca87",
   "metadata": {},
   "source": [
    "### 3b. Apply PCA to Iris\n",
    "\n",
    "You should make the following plots:\n",
    "1. Elbow plot of cumulative variance accounted for by first $k$ principal components.\n",
    "2. Written description of your choice of number of PCs preserved and why.\n",
    "3. Visualization (plot) of PCA projected data on 1st two PCs.\n",
    "\n",
    "You should normalize the dataset when performing your PCA projection."
   ]
  },
  {
   "cell_type": "code",
   "execution_count": null,
   "id": "6c80dab2",
   "metadata": {},
   "source": [],
   "outputs": []
  },
  {
   "cell_type": "markdown",
   "id": "f02f0655",
   "metadata": {},
   "source": [
    "### 3c. Dropping different pairs of principal components\n",
    "\n",
    "In the cell below, create a \"high quality\" 2x2 subplots grid of scatter plots that drops different consecutive PCs from the data, then project onto the remaining PCs.\n",
    "\n",
    "The 2x2 plots should keep:\n",
    "- (top-left) PCs [3, 4]\n",
    "- (top-right) PCs [2, 3]\n",
    "- (bottom-left) PCs [4, 1]\n",
    "- (bottom-right) PCs [1, 2]\n",
    "\n",
    "High quality means\n",
    "- x and y axis label indicating the PC (e.g. PC1)\n",
    "- title indicating the PCs shown in the plot\n",
    "\n",
    "You may have to adjust the font/figure sizes to make things legible."
   ]
  },
  {
   "cell_type": "code",
   "execution_count": null,
   "id": "73a71da0",
   "metadata": {},
   "source": [],
   "outputs": []
  },
  {
   "cell_type": "markdown",
   "id": "e5aad8d1",
   "metadata": {},
   "source": [
    "### 3d. Questions\n",
    "\n",
    "**Question 8:** Interpret what the 2x2 grid of plots tells us about keeping different PCs."
   ]
  },
  {
   "cell_type": "markdown",
   "id": "908f4599",
   "metadata": {},
   "source": [
    "**Answer 8:** "
   ]
  },
  {
   "cell_type": "markdown",
   "id": "75b4920b",
   "metadata": {},
   "source": [
    "### 3e. Reconstruct data based on PCs\n",
    "\n",
    "In `pca_cov.py`, implement `pca_then_project_back`, which projects the data to PCA space, keeping only the top $k$ PCs, then projects from PCA space back onto the original data space. Then in the cell below, create a scatter plot of the two data variables `sepal_length` (x), `sepal_width` (y) of the Iris data **without any normalization**."
   ]
  },
  {
   "cell_type": "code",
   "execution_count": null,
   "id": "1b4c1343",
   "metadata": {},
   "source": [],
   "outputs": []
  },
  {
   "cell_type": "markdown",
   "id": "ea67c71c",
   "metadata": {},
   "source": [
    "In the cell below, apply PCA on the Iris dataset **without any normalization** and create a 2x2 grid of scatter plots showing the data reconstruction of the 1st two data variables (`sepal_length`, `sepal_width` — *these are what your axis labels should be*) when keeping the top 1, 2, 3, or 4 (all) principal components.\n",
    "\n",
    "If everything goes well, if you keep all 4 PCs you should get the original dataset back (it should match your `sepal_length`, `sepal_width` plot created one cell above — including the data range and center)."
   ]
  },
  {
   "cell_type": "code",
   "execution_count": null,
   "id": "4c039ca1",
   "metadata": {},
   "source": [],
   "outputs": []
  },
  {
   "cell_type": "markdown",
   "id": "a4a938e1",
   "metadata": {},
   "source": [
    "### 3f. Questions\n",
    "\n",
    "**Question 9:** How well does each of the re-projections preserve properties of the original data? Briefly interpret what the above 2x2 grid means."
   ]
  },
  {
   "cell_type": "markdown",
   "id": "4e13f9fc",
   "metadata": {},
   "source": [
    "**Answer 9:** "
   ]
  },
  {
   "cell_type": "markdown",
   "id": "92b9b598",
   "metadata": {},
   "source": [
    "### 3g. Implement loading plot\n",
    "\n",
    "To visualize how the top two principal components relate to original data variables, implement `loading_plot` in `pca.py`."
   ]
  },
  {
   "cell_type": "markdown",
   "id": "9cc3304e",
   "metadata": {},
   "source": [
    "### 3h. Questions"
   ]
  },
  {
   "cell_type": "markdown",
   "id": "5296aa09",
   "metadata": {},
   "source": [
    "**Question 10:** Call your `loading_plot` method to generate a loading plot of the Iris dataset. What do the loadings tell us what the first two PCs measure specifically, with respect to the original data variables?\n",
    "\n",
    "**Question 11:** What specific correlations among original data variables do the loadings help us identity?"
   ]
  },
  {
   "cell_type": "markdown",
   "id": "3c77d94c",
   "metadata": {},
   "source": [
    "**Answer 10:** \n",
    "\n",
    "**Answer 11:** "
   ]
  },
  {
   "cell_type": "code",
   "execution_count": null,
   "id": "ceb605af",
   "metadata": {},
   "source": [],
   "outputs": []
  }
 ],
 "metadata": {
  "kernelspec": {
   "display_name": "Python 3 (ipykernel)",
   "language": "python",
   "name": "python3"
  },
  "language_info": {
   "codemirror_mode": {
    "name": "ipython",
    "version": 3
   },
   "file_extension": ".py",
   "mimetype": "text/x-python",
   "name": "python",
   "nbconvert_exporter": "python",
   "pygments_lexer": "ipython3",
   "version": "3.11.7"
  }
 },
 "nbformat": 4,
 "nbformat_minor": 5
}
