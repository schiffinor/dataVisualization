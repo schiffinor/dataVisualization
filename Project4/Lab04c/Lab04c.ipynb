{
 "cells": [
  {
   "cell_type": "markdown",
   "metadata": {},
   "source": [
    "**YOUR NAME**\n",
    "\n",
    "Spring 2024\n",
    "\n",
    "CS 251: Data Analysis and Visualization"
   ]
  },
  {
   "cell_type": "markdown",
   "metadata": {},
   "source": [
    "# Lab 4c | PCA and Image Compression"
   ]
  },
  {
   "cell_type": "code",
   "execution_count": null,
   "metadata": {},
   "source": [
    "import numpy as np\n",
    "import matplotlib.pyplot as plt\n",
    "\n",
    "\n",
    "plt.style.use(['seaborn-v0_8-colorblind', 'seaborn-v0_8-darkgrid'])\n",
    "plt.rcParams.update({'font.size': 10})\n",
    "plt.rcParams.update({'figure.figsize': [7,7]})\n",
    "\n",
    "np.set_printoptions(suppress=True, precision=5)"
   ],
   "outputs": []
  },
  {
   "cell_type": "markdown",
   "metadata": {},
   "source": [
    "## Task 1: Preparing the Image\n",
    "\n",
    "### 1a. Import and view an image\n",
    "\n",
    "1. Import `lorikeet.png` using pyplot's [imread](https://matplotlib.org/stable/api/_as_gen/matplotlib.pyplot.imread.html)\n",
    "2. Print the shape of the image. *NOTE: The 4th color channel corresponds to the image's [alpha channel](https://en.wikipedia.org/wiki/Alpha_channel)*.\n",
    "3. Display the image using pyplot's [imshow](https://matplotlib.org/stable/api/_as_gen/matplotlib.pyplot.imshow.html). Remove the grid lines using [plt.grid](https://matplotlib.org/stable/api/_as_gen/matplotlib.pyplot.grid.html).\n",
    "4. Show the pyplot\n"
   ]
  },
  {
   "cell_type": "code",
   "execution_count": null,
   "metadata": {},
   "source": [],
   "outputs": []
  },
  {
   "cell_type": "markdown",
   "metadata": {},
   "source": [
    "### 1b. Reshape and compute original variable means\n",
    "\n",
    "1. Reshape your image for compression\n",
    "    1. Reshape your 3 dimensional `(R, C, n_chans)` array to be a 2 dimensional `(R, C*n_chans)` array and assign it to a new variable (`color_flat`).\n",
    "    2. Print out the shape of `color_flat`.\n",
    "2. Calculate the [means](https://numpy.org/doc/stable/reference/generated/numpy.mean.html) of each variable in  `color_flat` (columns) and assign it to a new variable. Your means should have the shape `(C*n_chans,)`"
   ]
  },
  {
   "cell_type": "code",
   "execution_count": null,
   "metadata": {},
   "source": [],
   "outputs": []
  },
  {
   "cell_type": "markdown",
   "metadata": {},
   "source": [
    "## Task 2:  Compressing the Image\n",
    "\n",
    "### Find the Image's Principal Components\n",
    "\n",
    "Use Sci-kit Learn's [PCA class](https://scikit-learn.org/stable/modules/generated/sklearn.decomposition.PCA.html) to extract the image's eigenvectors and the principal components\n",
    "1. Create an instance of the PCA class with 400 components\n",
    "2. Call the method `fit_transform` with `color_flat` as the X parameter and saving the results into a new variable representing the Transformed values.\n",
    "3. Print the shape of the Transformed values and the PCA's components.  The Transformed values should have the shape `(R, 400)` and the PCA's components should have the shape `(400, C*n_chans)`\n",
    "4. Create an elbow plot of the [cumulative sum](https://numpy.org/doc/stable/reference/generated/numpy.cumsum.html) of the [PCA's](https://scikit-learn.org/stable/modules/generated/sklearn.decomposition.PCA.html) explained variance ratio.\n",
    "    1. The x axis should be `# of Principal Components`\n",
    "    1. The y axis should be `Proportional Variance Accounted for`\n",
    "    1. Include a title, and x and y axis labels."
   ]
  },
  {
   "cell_type": "code",
   "execution_count": null,
   "metadata": {
    "scrolled": true
   },
   "source": [
    "from sklearn.decomposition import PCA\n",
    "\n"
   ],
   "outputs": []
  },
  {
   "cell_type": "markdown",
   "metadata": {},
   "source": [
    "## Task 3: Reconstruct the Image \n",
    "\n",
    "### Reconstruct the image accounting for 90-91% percent of the proportional variance\n",
    "\n",
    "1. Using the elbow plot, determine a number of principal components which account for roughly 90-91% percent of the proportional variance in the image.\n",
    "1. Compute the inverse transform:\n",
    "    1. `transformed_values @ principal_components + orig_var_means`\n",
    "    2. With shapes `(R, k) @ (k, C*n_chans) + (C*n_chans,)`\n",
    "    3. With `k` equal to the number of principal components you are keeping\n",
    "3. Show the reconstructed image\n",
    "    1. Use numpy's [clip](https://numpy.org/doc/stable/reference/generated/numpy.clip.html) method to clip any values less than 0 or greater than 1 in the reconstructed image.\n",
    "    2. Reshape the reconstructed image back to the shape of the original image\n",
    "    3. Display the image using pyplot's [imshow](https://matplotlib.org/stable/api/_as_gen/matplotlib.pyplot.imshow.html)\n",
    "    4. Show the pyplot\n",
    "2. Compute the compression ratio of this image\n",
    "    1. Uncompressed size =  the number of floats in the original image `R*C*n_chans`\n",
    "    2. Compressed size = the number of floats required to compute the inverse transform `R*k + k*C*n_chans + C*n_chans`\n",
    "    3. Compression ratio = Compressed size / Uncompressed size"
   ]
  },
  {
   "cell_type": "code",
   "execution_count": null,
   "metadata": {},
   "source": [],
   "outputs": []
  },
  {
   "cell_type": "markdown",
   "metadata": {},
   "source": [
    "## Turn in your lab\n",
    "\n",
    "Follow the usual submission format and submit your lab on Google Classroom."
   ]
  }
 ],
 "metadata": {
  "kernelspec": {
   "display_name": "Python 3 (ipykernel)",
   "language": "python",
   "name": "python3"
  },
  "language_info": {
   "codemirror_mode": {
    "name": "ipython",
    "version": 3
   },
   "file_extension": ".py",
   "mimetype": "text/x-python",
   "name": "python",
   "nbconvert_exporter": "python",
   "pygments_lexer": "ipython3",
   "version": "3.11.7"
  }
 },
 "nbformat": 4,
 "nbformat_minor": 4
}
