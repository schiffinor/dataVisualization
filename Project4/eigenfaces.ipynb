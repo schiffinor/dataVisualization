{
 "cells": [
  {
   "cell_type": "markdown",
   "id": "95b6157f",
   "metadata": {},
   "source": [
    "**YOUR NAME HERE**\n",
    "\n",
    "Spring 2024\n",
    "\n",
    "CS 251 / 252: Data Analysis and Visualization\n",
    "\n",
    "Project 4: Principal Component Analysis"
   ]
  },
  {
   "cell_type": "code",
   "execution_count": null,
   "id": "bc26ffff",
   "metadata": {},
   "outputs": [],
   "source": [
    "import numpy as np\n",
    "import matplotlib.pyplot as plt\n",
    "import pandas as pd\n",
    "\n",
    "import pca\n",
    "\n",
    "plt.style.use(['seaborn-v0_8-colorblind', 'seaborn-v0_8-darkgrid'])\n",
    "plt.rcParams.update({'font.size': 20})\n",
    "\n",
    "np.set_printoptions(suppress=True, precision=5)\n",
    "\n",
    "# Automatically reload external modules\n",
    "%load_ext autoreload\n",
    "%autoreload 2"
   ]
  },
  {
   "cell_type": "markdown",
   "id": "18abba23",
   "metadata": {},
   "source": [
    "## Task 4: Eigenfaces — PCA on face images\n",
    "\n",
    "Here, you will implement the Eigenface algorithm, which involves performing PCA on images of human faces. Here is a [link](https://sites.cs.ucsb.edu/~mturk/Papers/jcn.pdf) to original paper.\n",
    "\n",
    "*Reference:* M. Turk; A. Pentland (1991). \"Eigenfaces for recognition\" (PDF). *Journal of Cognitive Neuroscience*. 3 (1): 71–86."
   ]
  },
  {
   "cell_type": "markdown",
   "id": "d2721ac1",
   "metadata": {},
   "source": [
    "### 4a. Load in LFWcrop face dataset\n",
    "\n",
    "Run the following cell to load in the face images and labels (which celebrity each face is of).\n",
    "\n",
    "*More info about LFWcrop face dataset: http://conradsanderson.id.au/lfwcrop/*"
   ]
  },
  {
   "cell_type": "code",
   "execution_count": null,
   "id": "b5045da3",
   "metadata": {},
   "outputs": [],
   "source": [
    "face_imgs = np.load('data/lfwcrop.npy')\n",
    "with open('data/lfwcrop_ids.txt') as fp:\n",
    "    face_names = fp.read().splitlines()\n",
    "\n",
    "print(f'There are {len(face_imgs)} faces. There should be 13231.')\n",
    "print(f'Shape of images is are {face_imgs.shape} faces. It should be (13231, 64, 64).')\n",
    "print(f'Names of faces match the number of face images? {np.all(len(face_names) == len(face_imgs))}')"
   ]
  },
  {
   "cell_type": "markdown",
   "id": "94630a1a",
   "metadata": {},
   "source": [
    "### 4b. Look at the face data\n",
    "\n",
    "In the cell below, fill in the function to create a 6x5 subplots grid of plots (*6 rows, 5 columns*). In each plot, show one of the first 30 images in the dataset. For the title of the plot, use the corresponding name of the celebrity whose face. For showing the image, use [imshow](https://matplotlib.org/stable/api/_as_gen/matplotlib.pyplot.imshow.html):\n",
    "\n",
    "Run the function to create the plot of the faces below.\n",
    "\n",
    "**Note:**\n",
    "- When you call `imshow`, add this optional parameter (otherwise faces will look ghastly): `cmap=plt.get_cmap('gray')`\n",
    "- Turn off the x and y ticks (they just add clutter).\n",
    "- **Before moving on, make sure that the celebrity names match the image!**"
   ]
  },
  {
   "cell_type": "code",
   "execution_count": null,
   "id": "22b30265",
   "metadata": {},
   "outputs": [],
   "source": [
    "def face_plot(face_imgs, face_names):\n",
    "    '''Creates a 6x5 grid of grayscale face images.\n",
    "    \n",
    "    Parameters:\n",
    "    -----------\n",
    "    face_imgs: ndarray. shape=(N, img_y, img_x).\n",
    "        Grayscale images to show.\n",
    "    face_names: ndarray. shape=(N,).\n",
    "        Names of the person in each image represented as strings.\n",
    "    \n",
    "    NOTE: Each grayscale image should have a title with the person's name in it.\n",
    "    '''\n",
    "    pass\n",
    "\n",
    "face_plot(face_imgs, face_names)"
   ]
  },
  {
   "cell_type": "markdown",
   "id": "396662f0",
   "metadata": {},
   "source": [
    "### 4c. Visualize the \"mean face\"\n",
    "\n",
    "Take the mean face image across the dataset and show it below.\n",
    "\n",
    "**Note:** Use the same `cmap` parameter as above and turn off x and y tick marks."
   ]
  },
  {
   "cell_type": "code",
   "execution_count": null,
   "id": "c13b293b",
   "metadata": {},
   "outputs": [],
   "source": []
  },
  {
   "cell_type": "markdown",
   "id": "ffe33996",
   "metadata": {},
   "source": [
    "### 4d. Preprocess face data\n",
    "\n",
    "In the face dataset, each person is a sample and each pixel is a variable. Currently, the face data has shape = `(13231, 64, 64)` or $N = 13231$ samples and $M = 64*64 = 4096$ pixels. To run PCA, we'll need to \\\"unravel\\\" each row of pixels and glue them into one big vector so that the shape = `(13231, 64*64)` = `(13231, 4096)`. This will make a standard matrix and should work with your PCA code.\n",
    "\n",
    "\n",
    "In the following cell, reshape the face data **without hardcoding** ANY of (13231, 64*64)!"
   ]
  },
  {
   "cell_type": "code",
   "execution_count": null,
   "id": "d8a0c5d5",
   "metadata": {},
   "outputs": [],
   "source": [
    "# Your reshape code here\n",
    "\n",
    "print(f'Your reshaped face images have shape={face_imgs_vec.shape} and it should be (13231, 4096).')"
   ]
  },
  {
   "cell_type": "markdown",
   "id": "ad44182c",
   "metadata": {},
   "source": [
    "### 4e. Perform PCA on preprocessed face data\n",
    "\n",
    "Create pandas DataFrame object that holds the face data then run PCA on the face dataset. The header names of consecutive integers `0, 1, ..., 4095` are fine. For the `vars` parameter in the `fit` method, pass in a Python list of ints (`0, 1, ..., 4095`).\n",
    "\n",
    "**Notes:**\n",
    "- This is not a \"toy\" dataset so it might take a few minutes for the PCA to finish computing.\n",
    "- Use the python `time` module (i.e. `import time`) to time how long the `pca` method takes to finish processing the data, then print out the time elapsed below. If this takes more than a few minutes, something probably is wrong."
   ]
  },
  {
   "cell_type": "code",
   "execution_count": null,
   "id": "3ef7823a",
   "metadata": {},
   "outputs": [],
   "source": []
  },
  {
   "cell_type": "code",
   "execution_count": null,
   "id": "7f15df1e",
   "metadata": {},
   "outputs": [],
   "source": []
  },
  {
   "cell_type": "markdown",
   "id": "51215a30",
   "metadata": {},
   "source": [
    "### 4f. Make face PCA elbow plot\n",
    "\n",
    "Make an elbow plot of the PCA results. Show **only show a reasonable number of PCs** to focus on the curve before it plateaus."
   ]
  },
  {
   "cell_type": "code",
   "execution_count": null,
   "id": "e840fce5",
   "metadata": {},
   "outputs": [],
   "source": []
  },
  {
   "cell_type": "markdown",
   "id": "4a185ba8",
   "metadata": {},
   "source": [
    "### 4g. Reconstruct faces using the principal components\n",
    "\n",
    "Use your elbow plot to find the number of top principal components required to *approximately* explain the following cumulative proportion of the variance:\n",
    "- 50%\n",
    "- 70%\n",
    "- 80%\n",
    "- 97%\n",
    "\n",
    "Outline of the general process:\n",
    "1. For each of the above number of PCs, project them back onto the original data space.\n",
    "2. Write then use the below `make_imgs` function to convert the projected data back to image shapes `(13231, 64, 64)`.\n",
    "3. Use `face_plot` to plot the reconstructed 1st 30 faces with each of the variance numbers above.\n",
    "\n",
    "**There should be 4 6x5 plots below**"
   ]
  },
  {
   "cell_type": "code",
   "execution_count": null,
   "id": "8ed013ef",
   "metadata": {},
   "outputs": [],
   "source": [
    "def make_imgs(reconstucted_imgs):\n",
    "    '''Inflates a 1D feature vector representation of images into 2D images for plotting.\n",
    "    Assumes square images\n",
    "    \n",
    "    Parameters:\n",
    "    -----------\n",
    "    reconstucted_imgs: ndarray. shape=(N, img_y*img_x)\n",
    "        1D vector representation of each image\n",
    "    \n",
    "    Returns:\n",
    "    -----------\n",
    "    ndarray. shape=(N, img_y, img_x)\n",
    "        The images inflated into 2D\n",
    "    '''\n",
    "    pass"
   ]
  },
  {
   "cell_type": "markdown",
   "id": "160a05dd",
   "metadata": {},
   "source": [
    "#### 50% variance face grid"
   ]
  },
  {
   "cell_type": "code",
   "execution_count": null,
   "id": "a883e541",
   "metadata": {},
   "outputs": [],
   "source": []
  },
  {
   "cell_type": "markdown",
   "id": "31463758",
   "metadata": {},
   "source": [
    "#### 70% variance face grid"
   ]
  },
  {
   "cell_type": "code",
   "execution_count": null,
   "id": "3e33bc33",
   "metadata": {},
   "outputs": [],
   "source": []
  },
  {
   "cell_type": "markdown",
   "id": "9e4d4baa",
   "metadata": {},
   "source": [
    "#### 80% variance face grid"
   ]
  },
  {
   "cell_type": "code",
   "execution_count": null,
   "id": "401a92d4",
   "metadata": {},
   "outputs": [],
   "source": []
  },
  {
   "cell_type": "markdown",
   "id": "35da2c7a",
   "metadata": {},
   "source": [
    "#### 97% variance face grid"
   ]
  },
  {
   "cell_type": "code",
   "execution_count": null,
   "id": "dc1b0780",
   "metadata": {},
   "outputs": [],
   "source": []
  },
  {
   "cell_type": "markdown",
   "id": "c8589109",
   "metadata": {},
   "source": [
    "### 4h. Questions\n",
    "\n",
    "**Question 12:** Pick one of the celebrity faces to focus on. Describe what specifically happens in the same celebrity face over the course of the 4 plots.\n",
    "\n",
    "**Question 13:** Let's assume that the PCA eigenvectors are fixed/fit using the dataset above and we do not change them. Say we are interested in reconstructing of others in the general population (i.e. PCA transforming images of novel people). In a paragraph, describe how well you would expect this to work, noting any concerns you might have. **Reminder: I am expecting 100% original answers to questions that you write 100% yourself. Suspected use of generative AI to write or edit will result in 0 points.** I am grading your ideas, not your style/prose/grammar.\n",
    "\n"
   ]
  },
  {
   "cell_type": "markdown",
   "id": "3d542b02",
   "metadata": {},
   "source": [
    "**Answer 12:** \n",
    "\n",
    "**Answer 13:**\n",
    "\n"
   ]
  },
  {
   "cell_type": "markdown",
   "id": "062b6581",
   "metadata": {},
   "source": [
    "## Extensions\n",
    "\n",
    "### a. Reminder: AI Policy\n",
    "\n",
    "The goal of extensions is to learn and create something new beyond the base project that excites you. To serve this goal and out of fairness to your hardworking classmates, **AI (e.g. ChatGPT, Copilot, etc.) should NOT be used in ANY way on this project and extensions.** This includes both written analysis, plotting, and code. We will only grade **your** work, not an AI's. **We will stop grading your project if we notice AI-generated content (to any capacity).**\n",
    "\n",
    "### b. Guidelines\n",
    "\n",
    "To receive credit for any extension, you must:\n",
    "1. Not modify / prevent any code from the core project from working (e.g. make a copy before changing). In other words, **the notebook test code should still work!**\n",
    "2. **You must describe what you did and what you found in detail**. This includes a summary of parameter values used in your simulations.\n",
    "3. Include (*labeled!*) plots and/or numbers to present your results.\n",
    "4. Write up your extensions below or in a separate notebook.\n",
    "5. Give kudos to all sources, including anyone that you consulted.\n",
    "\n",
    "### c. Suggestions\n",
    "\n",
    "**Rule of thumb: one deep, thorough extension is worth more than several quick, shallow extensions!**\n",
    "\n",
    "The ideas below are **suggested** extensions — feel free to go in another direction related to this project that is not listed!"
   ]
  },
  {
   "cell_type": "markdown",
   "id": "5212140a",
   "metadata": {},
   "source": [
    "### 1. Your own dataset\n",
    "\n",
    "- Do PCA on a dataset of your choice. Use any of the canonical analysis tools (e.g. elbow plot, proportion variance explained, loading plot, etc) to inform your analysis and exploration. "
   ]
  },
  {
   "cell_type": "markdown",
   "id": "b26f6981",
   "metadata": {},
   "source": [
    "### 2. Image compression\n",
    "\n",
    "- Run PCA on your own images and analyze the trade-off in compression and reconstruction error."
   ]
  },
  {
   "cell_type": "markdown",
   "id": "5497f2a3",
   "metadata": {},
   "source": [
    "### 3. Facial recognition with Eigenfaces\n",
    "\n",
    "You can use Eigenfaces to perform facial recognition! Here is the idea:\n",
    "\n",
    "1. Perform PCA on images of faces of people who you would like to be able to \"learn\" to recognize (creating a \"database\" of known faces). This is just like what you did in the main project.\n",
    "2. Project a \"query\" image of a face that you would like to recognize into the PCA space established by the database of known faces (the number of PCA dimensions is up to you).  \n",
    "3. Project each of the images in the face database into the same PCA space established by the database of known faces (the number of PCA dimensions is the same as before).\n",
    "4. Treat the projected query image and each projected database images as vectors. Compute the Euclidean distance of the vector obtained by subtracting that of the query image and that of each database image.\n",
    "5. Pick a match tolerance level. If any of the distances is less than your tolerance level, you have a match! If none of the distances is smaller than your tolerance, you don't have a match."
   ]
  }
 ],
 "metadata": {
  "kernelspec": {
   "display_name": "Python 3 (ipykernel)",
   "language": "python",
   "name": "python3"
  },
  "language_info": {
   "codemirror_mode": {
    "name": "ipython",
    "version": 3
   },
   "file_extension": ".py",
   "mimetype": "text/x-python",
   "name": "python",
   "nbconvert_exporter": "python",
   "pygments_lexer": "ipython3",
   "version": "3.11.7"
  }
 },
 "nbformat": 4,
 "nbformat_minor": 5
}
