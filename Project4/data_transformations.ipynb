{
 "cells": [
  {
   "cell_type": "markdown",
   "metadata": {},
   "source": [
    "**YOUR NAME HERE**\n",
    "\n",
    "Spring 2024\n",
    "\n",
    "CS 251 / 252: Data Analysis and Visualization"
   ]
  },
  {
   "cell_type": "code",
   "execution_count": null,
   "metadata": {},
   "source": [
    "import numpy as np\n",
    "import matplotlib.pyplot as plt\n",
    "import pandas as pd\n",
    "\n",
    "plt.style.use(['seaborn-v0_8-colorblind', 'seaborn-v0_8-darkgrid'])\n",
    "plt.show()\n",
    "plt.rcParams.update({'font.size': 14})\n",
    "\n",
    "np.set_printoptions(suppress=True, precision=5)\n",
    "\n",
    "# Automatically reload external modules\n",
    "%load_ext autoreload\n",
    "%autoreload 2"
   ],
   "outputs": []
  },
  {
   "cell_type": "markdown",
   "metadata": {},
   "source": [
    "# Project 4 | Principal component analysis\n",
    "\n",
    "Principal component analysis (PCA) is a technique to reduce the dimensionality of a dataset while losing the least amount of information about the data variables. Before implementing PCA and exploring its use with different datasets, you will explore what happens when you manually reduce the dimensionality of a mystery dataset from 3D to 2D.\n",
    "\n",
    "## AI Policy\n",
    "\n",
    "To improve the quality of your learning and out of fairness to your hardworking classmates, AI (e.g. ChatGPT, Copilot, etc.) should NOT be used in ANY way on this project and extensions. This includes both written analysis, plotting, and code. I will only grade your work, not the AI's. I will stop grading your project if I notice AI-generated content (in any capacity)."
   ]
  },
  {
   "cell_type": "code",
   "execution_count": null,
   "metadata": {},
   "source": [
    "from data_transformations import normalize, center, rotation_matrix_3d\n",
    "from scatter3d import scatter3dplot"
   ],
   "outputs": []
  },
  {
   "cell_type": "markdown",
   "metadata": {},
   "source": [
    "## Task 1: Dimensionality reduction by hand\n",
    "\n",
    "### 1a. Load and visualize mystery dataset\n",
    "\n",
    "Load in the mystery dataset (`mystery.csv`) as a pandas DataFrame below. Print out the header and the first five rows of data. You should see:\n",
    "\n",
    "```\n",
    "\t       x\t        y\t        z\t   color\n",
    "0\t6.183216\t86.707892\t90.551566\t4.810163\n",
    "1\t0.969658\t16.972285\t137.976605\t9.442446\n",
    "2\t0.727076\t57.112193\t139.795502\t9.384942\n",
    "3\t8.433828\t30.348513\t113.600202\t5.973703\n",
    "4\t8.188306\t133.978413\t120.671505\t6.051754\n",
    "```\n",
    "\n",
    "**Note:** The `mystery.csv` does not have a types row. Going forward, csv files we work with won't have the types row."
   ]
  },
  {
   "cell_type": "code",
   "execution_count": null,
   "metadata": {},
   "source": [],
   "outputs": []
  },
  {
   "cell_type": "markdown",
   "metadata": {},
   "source": [
    "Select the x, y, and z variables from the pandas DataFrame and [convert it to a numpy ndarray](https://pandas.pydata.org/docs/reference/api/pandas.DataFrame.to_numpy.html)."
   ]
  },
  {
   "cell_type": "code",
   "execution_count": null,
   "metadata": {},
   "source": [],
   "outputs": []
  },
  {
   "cell_type": "markdown",
   "metadata": {},
   "source": [
    "Use the provided `scatter3dplot` function in `scatter3d.py` to make a 3D scatter plot of the `x`, `y`, and `z` numeric variables. Set the color keyword argument to the `color` variable value from the pandas DataFrame (`len=2000`).\n",
    "\n",
    "Set the plot bounds (`lims` keyword argument) so that the **entire** dataset appears within the 3D scatter plot. In the provided `scatter3dplot` function, the plot limits that you pass in apply to **all** x, y, and z axes. It may be helpful to print out the min and max of each variable and make sure the bounds that you select encompass all the samples."
   ]
  },
  {
   "cell_type": "code",
   "execution_count": null,
   "metadata": {},
   "source": [],
   "outputs": []
  },
  {
   "cell_type": "markdown",
   "metadata": {},
   "source": [
    "### 1b. Preprocess mystery dataset (1/2): Normalize\n",
    "\n",
    "Implement the `normalize` function in `data_transformations.py` then perform min-max normalization on the `x`, `y`, and `z` values in the mystery dataset.\n",
    "\n",
    "Use `scatter3dplot` to make a 3D scatterplot of the normalized dataset. Set the color as before, but update the plot limits appropriately based on the new normalized data range.\n",
    "\n",
    "<!-- In **two lines of code** below, print out the mins and maxes of **each variable** and verify that the data variables are normalized as expected. As above, you should print two length-3 ndarrays — the min and max of each variable (x, y, z) -->"
   ]
  },
  {
   "cell_type": "code",
   "execution_count": null,
   "metadata": {},
   "source": [],
   "outputs": []
  },
  {
   "cell_type": "markdown",
   "metadata": {},
   "source": [
    "### 1c. Questions\n",
    "\n",
    "**Question 1:** What are the min and max values of each variable in the normalized dataset?\n",
    "\n",
    "**Question 2:** Describe the shape and structure of the normalized mystery dataset. **Why** was the appearance of the dataset not obvious when plotting the raw un-normalized dataset?"
   ]
  },
  {
   "cell_type": "markdown",
   "metadata": {},
   "source": [
    "**Answer 1:** \n",
    "\n",
    "**Answer 2:** "
   ]
  },
  {
   "cell_type": "code",
   "execution_count": null,
   "metadata": {},
   "source": [],
   "outputs": []
  },
  {
   "cell_type": "markdown",
   "metadata": {},
   "source": [
    "### 1d. Preprocess mystery dataset (2/2): Center\n",
    "\n",
    "Implement the `center` function in `data_transformations.py` then center the `x`, `y`, and `z` values in the **normalized** mystery dataset. Then use `scatter3dplot` to make a 3D scatterplot of the normalized and centered dataset. Set the color as before.\n",
    "\n",
    "Update the plot limits appropriately based on the new expected data range so that all data samples appear in the plot, but minimize \"filler space\" around the dataset in the plot (*i.e. we want to view the full dataset close-up in detail*)."
   ]
  },
  {
   "cell_type": "code",
   "execution_count": null,
   "metadata": {},
   "source": [],
   "outputs": []
  },
  {
   "cell_type": "markdown",
   "metadata": {},
   "source": [
    "### 1e. Questions\n",
    "\n",
    "**Question 3:** Verify below that the normalized mystery dataset is now also centered. **Note:** It is totally fine if you have some `-0.` values.\n",
    "\n",
    "**Question 4:** What are the min and max values of each variable in the normalized and centered dataset? Briefly describe **why** these new min and max values make sense."
   ]
  },
  {
   "cell_type": "markdown",
   "metadata": {},
   "source": [
    "**Answer 3:** \n",
    "\n",
    "**Answer 4:** "
   ]
  },
  {
   "cell_type": "code",
   "execution_count": null,
   "metadata": {},
   "source": [
    "# Verify centered property\n",
    "\n",
    "# Verify min-maxes\n"
   ],
   "outputs": []
  },
  {
   "cell_type": "markdown",
   "metadata": {},
   "source": [
    "### 1f. Projecting mystery dataset from 3D to 2D (1/2)\n",
    "\n",
    "In the cell below, create a 2D scatter plot showing just the `x` and `y` variables in the normalized and centered mystery dataset."
   ]
  },
  {
   "cell_type": "code",
   "execution_count": null,
   "metadata": {},
   "source": [],
   "outputs": []
  },
  {
   "cell_type": "markdown",
   "metadata": {},
   "source": [
    "### 1g. Questions\n",
    "\n",
    "**Question 5:** Based on your 2D scatter plot, does the projection that you performed in Task 1f look like a \"helpful\" lower dimensional representation of the dataset? **Why?**\n"
   ]
  },
  {
   "cell_type": "markdown",
   "metadata": {},
   "source": [
    "**Answer 5:**"
   ]
  },
  {
   "cell_type": "markdown",
   "metadata": {},
   "source": [
    "### 1h. Implement `rotation_matrix_3d`\n",
    "\n",
    "In `data_transformations.py` implement `rotation_matrix_3d` then test it below."
   ]
  },
  {
   "cell_type": "markdown",
   "metadata": {},
   "source": [
    "#### Test `rotation_matrix_3d`"
   ]
  },
  {
   "cell_type": "code",
   "execution_count": null,
   "metadata": {},
   "source": [
    "# Test rotate about x axis\n",
    "print('Your 3D Rotation matrix about x axis by +30° is:')\n",
    "print(rotation_matrix_3d(30, axis='x'))\n",
    "print('and should be:')\n",
    "print('''[[ 1.       0.       0.     ]\n",
    " [ 0.       0.86603 -0.5    ]\n",
    " [ 0.       0.5      0.86603]]''')\n",
    "\n",
    "# Test rotate about y axis\n",
    "print('Your 3D Rotation matrix about y axis by -15° is:')\n",
    "print(rotation_matrix_3d(-15, axis='y'))\n",
    "print('and should be:')\n",
    "print('''[[ 0.96593  0.      -0.25882]\n",
    " [ 0.       1.       0.     ]\n",
    " [ 0.25882  0.       0.96593]]''')\n",
    "\n",
    "# Test rotate about z axis\n",
    "print('Your 3D Rotation matrix about z axis by 45° is:')\n",
    "print(rotation_matrix_3d(45, axis='z'))\n",
    "print('and should be:')\n",
    "print('''[[ 0.70711 -0.70711  0.     ]\n",
    " [ 0.70711  0.70711  0.     ]\n",
    " [ 0.       0.       1.     ]]''')"
   ],
   "outputs": []
  },
  {
   "cell_type": "markdown",
   "metadata": {},
   "source": [
    "### 1i. Projecting mystery dataset from 3D to 2D (2/2)\n",
    "\n",
    "Reduce the dimensionality of the **normalized and centered** mystery dataset from 3D -> 2D while doing a better job at preserving the \"rolled\" shape than in Task 1f. Do this below by projecting the 3D dataset into the (`x`, `y`) plane just like you did in Task 1f (i.e. make a 2D scatter plot of `x` and `y`), but this time rotate the 3D normalized and centered mystery dataset **beforehand**. The amount of 3D rotation and the axis about which it is performed is up to you.\n",
    "\n",
    "Your goal is to rotate the 3D dataset so that the \"rolled\" spiral structure (*i.e. the key shape of the dataset*) comes into view of the `x`-`y` plane/axis when you project the dataset down into 2D via your 2D scatter plot.\n",
    "\n",
    "The cell below should show a 2D scatter plot with the spiral/rolled structure clearly visible.\n",
    "\n",
    "**Note:** It should be helpful to plot the normalized and centered mystery dataset in 3D with `scatter3dplot` before and after the rotation."
   ]
  },
  {
   "cell_type": "code",
   "execution_count": null,
   "metadata": {},
   "source": [],
   "outputs": []
  }
 ],
 "metadata": {
  "kernelspec": {
   "display_name": "Python 3 (ipykernel)",
   "language": "python",
   "name": "python3"
  },
  "language_info": {
   "codemirror_mode": {
    "name": "ipython",
    "version": 3
   },
   "file_extension": ".py",
   "mimetype": "text/x-python",
   "name": "python",
   "nbconvert_exporter": "python",
   "pygments_lexer": "ipython3",
   "version": "3.11.7"
  }
 },
 "nbformat": 4,
 "nbformat_minor": 4
}
