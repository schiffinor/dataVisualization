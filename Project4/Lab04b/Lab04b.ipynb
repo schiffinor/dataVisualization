{
 "cells": [
  {
   "cell_type": "markdown",
   "metadata": {},
   "source": [
    "**YOUR NAME**\n",
    "\n",
    "Spring 2024\n",
    "\n",
    "CS 251: Data Analysis and Visualization"
   ]
  },
  {
   "cell_type": "markdown",
   "metadata": {},
   "source": [
    "# Lab 4b | Principal Component Analysis"
   ]
  },
  {
   "cell_type": "code",
   "execution_count": null,
   "metadata": {},
   "outputs": [],
   "source": [
    "import numpy as np\n",
    "import matplotlib.pyplot as plt\n",
    "import pandas as pd\n",
    "\n",
    "plt.style.use(['seaborn-v0_8-colorblind', 'seaborn-v0_8-darkgrid'])\n",
    "plt.rcParams.update({'font.size': 10})\n",
    "plt.rcParams.update({'figure.figsize': [6,6]})\n",
    "\n",
    "np.set_printoptions(suppress=True, precision=5)"
   ]
  },
  {
   "cell_type": "markdown",
   "metadata": {},
   "source": [
    "## Task 1: Load and preprocess data\n",
    "\n",
    "We are using the [Wisconsin Breast Cancer dataset](https://archive.ics.uci.edu/ml/datasets/Breast+Cancer+Wisconsin+(Original)) this week. We will use principal component analysis (PCA) to gain insight about the structure of the dataset.\n",
    "\n",
    "1. Import dataset using pandas [read_csv](https://pandas.pydata.org/pandas-docs/stable/reference/api/pandas.read_csv.html) to create a Dataframe from the url:  https://raw.githubusercontent.com/patrickmlong/Breast-Cancer-Wisconsin-Diagnostic-DataSet/master/data.csv\n",
    "2. Create a `cancer_x` DataFrame which includes all of the columns that have the word \"mean\" in the title (*there should be 10 in total*).\n",
    "3. Print out a summary of the `cancer_x` DataFrame.\n",
    "4. Update `cancer_x` so that each variable is min-max normalized. Print out a summary of the updated DataFrame.\n",
    "5. `diagnosis` is a categorical variable (`M` stands for \"malignant\" and `B` stands for \"benign\"). Create a `cancer_y` Series with from the column `diagnosis` and convert the data type to [categorical](https://pandas.pydata.org/docs/user_guide/categorical.html).\n",
    "    1. In Task 2 of this lab you will use `diagnosis` to color-code a scatter plot of the cancer data. Use [pd.replace](https://pandas.pydata.org/docs/reference/api/pandas.DataFrame.replace.html) to replace the categorical levels with color string names. To do this, pass in a dictionary as the `replace` method parameter that maps the strings `'M'` and `'B'` to [colors](https://matplotlib.org/stable/gallery/color/named_colors.html) of your choice (e.g. `'red'`, `'blue'`). By default, the `replace` method doesn't update the DataFrame when you call it, so don't forget to update the value of `cancer_y` by assigning it to the output of your `replace` method call.\n",
    "    2. Print out `cancer_y`. You should see the `dtype` as `category` and the values should be one of two named color strings (e.g. `'red'`, `'blue'`)."
   ]
  },
  {
   "cell_type": "code",
   "execution_count": null,
   "metadata": {},
   "outputs": [],
   "source": []
  },
  {
   "cell_type": "markdown",
   "metadata": {},
   "source": [
    "## Task 2: PCA"
   ]
  },
  {
   "cell_type": "markdown",
   "metadata": {},
   "source": [
    "### 2a. Create and visualize a covariance matrix\n",
    "\n",
    "1. Use the [Dataframe](https://pandas.pydata.org/pandas-docs/stable/reference/frame.html) documentation to find out how to compute the covariance matrix of the `cancer_x` columns, store it, and print its shape.\n",
    "2. Use the [matplotlib](https://matplotlib.org/stable/gallery/images_contours_and_fields/image_annotated_heatmap.html) and [imshow](https://matplotlib.org/stable/api/_as_gen/matplotlib.axes.Axes.imshow.html) documentation to visualize the covariance matrix with a heatmap.\n",
    "    1. Include a title\n",
    "    2. Include labels for each row and column \n",
    "        1. Set the `xticks`, `yticks`, `xticklabels` and `ytickslabels`\n",
    "        2. If necessary, rotating the text for the x-axis using `setp`\n",
    "    3. Use an perceptually uniform sequential [colormap](https://matplotlib.org/tutorials/colors/colormaps.html). \n",
    "        1. Set it using the `cmap` parameter for `imshow`\n",
    "    4. Include a `colorbar`. This can be achieved by assigning a variable to your `imshow` call and then passing in that variable as a parameter to `plt.colorbar`. If that does not work, the [this example code](https://matplotlib.org/stable/gallery/images_contours_and_fields/image_annotated_heatmap.html#using-the-helper-function-code-style) may be helpful.\n",
    "\n",
    "*Your heatmap should show a 10x10 grid of colored squares.*"
   ]
  },
  {
   "cell_type": "code",
   "execution_count": null,
   "metadata": {},
   "outputs": [],
   "source": []
  },
  {
   "cell_type": "markdown",
   "metadata": {},
   "source": [
    "### 2b. Questions\n",
    "\n",
    "**Question 1:** What interpretations can you draw from this covariance matrix?"
   ]
  },
  {
   "cell_type": "markdown",
   "metadata": {},
   "source": [
    "**Answer 1:**"
   ]
  },
  {
   "cell_type": "markdown",
   "metadata": {},
   "source": [
    "### 2c. Performing PCA\n",
    "\n",
    "Use Sci-kit Learn's [PCA class](https://scikit-learn.org/stable/modules/generated/sklearn.decomposition.PCA.html) to apply PCA to the cancer dataset.\n",
    "1. Create an instance of the PCA class with 2 components. *This means that we will reduce the dimensionality of the cancer dataset from 10-D to 2-D*.\n",
    "2. Call the method `fit_transform` with `cancer_x` as the X parameter and saving the results into a new variable representing the transformed values.\n",
    "3. Print the shape of the transformed values. The transformed values should have the shape `(569, 2)`.\n",
    "4. Print the first 5 rows of the transformed data."
   ]
  },
  {
   "cell_type": "code",
   "execution_count": null,
   "metadata": {},
   "outputs": [],
   "source": [
    "from sklearn.decomposition import PCA"
   ]
  },
  {
   "cell_type": "code",
   "execution_count": null,
   "metadata": {},
   "outputs": [],
   "source": [
    "\n",
    "\n",
    "print('''\n",
    "-------------------------------------\n",
    "Your results should look like this:\n",
    "-------------------------------------\n",
    "PCA-transformed data shape: (569, 2)\n",
    "Transformed data:\n",
    "[[ 0.89009  0.51092]\n",
    " [ 0.30381 -0.39424]\n",
    " [ 0.67735 -0.07657]\n",
    " [ 0.53311  1.05071]\n",
    " [ 0.56301 -0.19896]]\n",
    "-------------------------------------\n",
    "''')"
   ]
  },
  {
   "cell_type": "markdown",
   "metadata": {},
   "source": [
    "### 2d. Graph a scatter plot of the transformed data\n",
    "\n",
    "Graph a scatter plot of the transformed data using [plt.scatter](https://matplotlib.org/3.3.3/api/_as_gen/matplotlib.axes.Axes.scatter.html)\n",
    "1. Scatter Parameters\n",
    "    1. Graph the first principle component on the x axis (first column of the tranformed data)\n",
    "    2. Graph the second principle component on the y axis (second column of the tranformed data)\n",
    "    3. Use the `cancer_y` series for the color with a black edgecolor\n",
    "3. Include a title, and axis labels.\n",
    "4. Add a custom [legend](https://matplotlib.org/stable/tutorials/intermediate/legend_guide.html#creating-artists-specifically-for-adding-to-the-legend-aka-proxy-artists) using mpatches.\n",
    "    1. Create 1 patch with the `color` keyword argument set to whatever named color string you set for malignant\n",
    "    1. Create 1 patch with the `color` keyword argument set to whatever named color string you set for benign"
   ]
  },
  {
   "cell_type": "code",
   "execution_count": null,
   "metadata": {},
   "outputs": [],
   "source": [
    "import matplotlib.patches as mpatches\n",
    "\n",
    "\n",
    "b_patch = mpatches.Patch(color='blue', label='benign')\n",
    "m_patch = mpatches.Patch(color='red', label='malignant')\n",
    "ax.legend(handles=[b_patch, m_patch])\n",
    "plt.show()"
   ]
  },
  {
   "cell_type": "markdown",
   "metadata": {},
   "source": [
    "### 2d. Visualize the PCA loadings\n",
    "\n",
    "In PCA, the **loadings** refer to the numbers that make up the principal component vectors (i.e. the eigenvectors). The shape of the loadings (eigenvectors) are `(k, M)` where `k` is the number of PCs and `M` is the number of original variables in the dataset. This task focuses on visualizing and interpreting what the loadings mean.\n",
    "\n",
    "1. Print out the shape of the loadings. The [PCA class](https://scikit-learn.org/stable/modules/generated/sklearn.decomposition.PCA.html) of Scikit-learn stores these as a field called `components_`.\n",
    "2. Use [imshow](https://matplotlib.org/stable/api/_as_gen/matplotlib.pyplot.imshow.html) to make a heatmap of the loadings. You should plot the **transposed** loadings, which will make your plot more readable — i.e. your heatmap should be taller than it is wide.\n",
    "   1. Include a title.\n",
    "   2. Set the `xticks`, `yticks`, `xticklabels` and `ytickslabels`. The y tick labels (rows) should show the original 10 variable names. The 2 x tick labels should be labeled with `'PC1'` and `'PC2'`.\n",
    "   3. Use an perceptually uniform **diverging** [colormap](https://matplotlib.org/tutorials/colors/colormaps.html). Set it using the `cmap` parameter for `imshow`.\n",
    "   4. Include a `colorbar`. This can be achieved by assigning a variable to your `imshow` call and then passing in that variable as a parameter to `plt.colorbar`. If that does not work, the [this example code](https://matplotlib.org/stable/gallery/images_contours_and_fields/image_annotated_heatmap.html#using-the-helper-function-code-style) may be helpful."
   ]
  },
  {
   "cell_type": "code",
   "execution_count": null,
   "metadata": {},
   "outputs": [],
   "source": []
  },
  {
   "cell_type": "markdown",
   "metadata": {},
   "source": [
    "### 2e. Questions\n",
    "\n",
    "**Question 2:** Interpret the loadings of PC1 and PC2. Which variables in the cancer dataset are most positively and negatively correlated with each PC?"
   ]
  },
  {
   "cell_type": "markdown",
   "metadata": {},
   "source": [
    "**Answer 2:**"
   ]
  },
  {
   "cell_type": "markdown",
   "metadata": {},
   "source": [
    "## Turn in your lab\n",
    "\n",
    "Follow the usual submission format and submit your lab on Google Classroom."
   ]
  }
 ],
 "metadata": {
  "kernelspec": {
   "display_name": "Python 3 (ipykernel)",
   "language": "python",
   "name": "python3"
  },
  "language_info": {
   "codemirror_mode": {
    "name": "ipython",
    "version": 3
   },
   "file_extension": ".py",
   "mimetype": "text/x-python",
   "name": "python",
   "nbconvert_exporter": "python",
   "pygments_lexer": "ipython3",
   "version": "3.11.5"
  }
 },
 "nbformat": 4,
 "nbformat_minor": 4
}
