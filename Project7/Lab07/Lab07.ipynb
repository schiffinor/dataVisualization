{
 "cells": [
  {
   "cell_type": "markdown",
   "id": "specified-swaziland",
   "metadata": {},
   "source": [
    "**YOUR NAME**\n",
    "\n",
    "Spring 2024\n",
    "\n",
    "CS 251/2: Data Analysis and Visualization\n",
    "\n",
    "# Lab 7 | Visualizing Radial Basis Function Neural Networks"
   ]
  },
  {
   "cell_type": "code",
   "execution_count": null,
   "id": "subject-tongue",
   "metadata": {},
   "outputs": [],
   "source": [
    "import numpy as np\n",
    "import matplotlib.pyplot as plt\n",
    "\n",
    "from scipy.spatial import distance\n",
    "from sklearn.cluster import KMeans"
   ]
  },
  {
   "cell_type": "markdown",
   "id": "combined-brake",
   "metadata": {},
   "source": [
    "\n",
    "\n",
    "## Task 1: Load dataset and initialize variables\n",
    "\n",
    "### 1a. Import Data\n",
    "\n",
    "Below, using numpy [load](https://numpy.org/doc/stable/reference/generated/numpy.load.html) load in the sample data (`x_24.npy`) and class labels (`y_24.npy`). The dataset has 5000 samples."
   ]
  },
  {
   "cell_type": "code",
   "execution_count": null,
   "id": "minimal-luther",
   "metadata": {},
   "outputs": [],
   "source": []
  },
  {
   "cell_type": "markdown",
   "id": "judicial-assets",
   "metadata": {},
   "source": [
    "### 1b. Create Clusters\n",
    "\n",
    "In the RBF neural network, the number of neurons in the hidden layer will be `8`.\n",
    "\n",
    "1. Create an instance of the [KMeans clustering algorithm class](https://scikit-learn.org/stable/modules/generated/sklearn.cluster.KMeans.html), with the number of clusters as the number of neurons in the hidden layer. Set the keyword argument `n_init` to `10` (*the number of times to run K-means*).\n",
    "    1. Calculate the `cluster_assignments` by fitting the KMeans clustering algorithm to all samples (`x_24`).\n",
    "    2. Assign the cluster centroids to the variable `prototypes`.  \n",
    "2. Calculate the `sigmas` for each cluster, the sigma is the mean distance between a prototype and all the samples assigned to the same cluster.\n",
    "    1. The length of `sigmas` array should be equal to the number of hidden neurons.\n",
    "    2. In the lab (*but not the project*) you can use [cdist](https://docs.scipy.org/doc/scipy/reference/generated/scipy.spatial.distance.cdist.html) to compute distance between the centroid and the data samples assigned to it. `cdist` expects two 2D arrays, so you will need to make your prototype a 2D array."
   ]
  },
  {
   "cell_type": "code",
   "execution_count": null,
   "id": "biblical-dietary",
   "metadata": {},
   "outputs": [],
   "source": [
    "# KEEP ME\n",
    "np.random.seed(10)\n"
   ]
  },
  {
   "cell_type": "markdown",
   "id": "necessary-egypt",
   "metadata": {},
   "source": [
    "### 1c. Visualize Clusters\n",
    "\n",
    "1. Create a scatterplot of the training data with the x coordinates, y coordinates, coloring the points according to the class label.\n",
    "2. On the same plot as the scatterplot. Draw the clusters\n",
    "    1. For each cluster, draw a [circle](https://matplotlib.org/stable/api/_as_gen/matplotlib.patches.Circle.html) with the center at the prototype coordinates, using its sigma as the radius.  \n",
    "    2. Add the circle to the axis. [add_patch](https://matplotlib.org/stable/api/_as_gen/matplotlib.axes.Axes.add_patch.html)\n",
    "    3. Set the alpha of the circles to be partially transparent and the `facecolor` and `edgecolor` to something easily differentiated from the data.\n",
    "3. Title the plot."
   ]
  },
  {
   "cell_type": "code",
   "execution_count": null,
   "id": "smoking-ebony",
   "metadata": {},
   "outputs": [],
   "source": []
  },
  {
   "cell_type": "markdown",
   "id": "unique-apple",
   "metadata": {},
   "source": [
    "## Task 2. Visualize Model\n",
    "\n",
    "1. Create a scatter plot of the training data with the x coordinates, y coordinates, coloring the points using the class label.\n",
    "2. On the same plot as the scatter plot, draw circles to represent the clusters and color them based on the resulting weights (`wts`) given below. *These are the already trained weights between the Hidden and Output layers of the RBF network.*\n",
    "    1. For each cluster, draw a circle with the center at the prototype coordinates, using the sigma as the radius. \n",
    "    2. Set the alpha of the circles to be semi-transparent.\n",
    "    3. Using the weights, determine whether each hidden neuron is most associated with the 1st or 2nd data class. The class associated with each neuron (each row of `wts`) is defined as the index of the column (class) that yields the greatest weight. Color the classes differently (*i.e. one of two colors*) with `facecolors` and a black `edgecolor`. Each of the `K` hidden neurons should have an associated class.\n",
    "3. Title the plot."
   ]
  },
  {
   "cell_type": "code",
   "execution_count": null,
   "id": "specified-specific",
   "metadata": {},
   "outputs": [],
   "source": [
    "# KEEP ME\n",
    "wts = np.array([[ 0.68767607, -0.68767607],\n",
    "       [-0.46745546,  0.46745546],\n",
    "       [-0.56568621,  0.56568621],\n",
    "       [ 0.55736802, -0.55736802],\n",
    "       [-0.45171637,  0.45171637],\n",
    "       [ 0.62908217, -0.62908217],\n",
    "       [-0.52861136,  0.52861136],\n",
    "       [ 0.62172913, -0.62172913]])\n",
    "\n",
    "# Your code here (it needs to use the wts)\n"
   ]
  }
 ],
 "metadata": {
  "kernelspec": {
   "display_name": "Python 3 (ipykernel)",
   "language": "python",
   "name": "python3"
  },
  "language_info": {
   "codemirror_mode": {
    "name": "ipython",
    "version": 3
   },
   "file_extension": ".py",
   "mimetype": "text/x-python",
   "name": "python",
   "nbconvert_exporter": "python",
   "pygments_lexer": "ipython3",
   "version": "3.11.7"
  }
 },
 "nbformat": 4,
 "nbformat_minor": 5
}
